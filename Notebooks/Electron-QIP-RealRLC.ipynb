{
 "cells": [
  {
   "cell_type": "code",
   "execution_count": 1,
   "metadata": {},
   "outputs": [],
   "source": [
    "# Load the needed package\n",
    "%matplotlib inline\n",
    "import numpy as np\n",
    "import matplotlib.pyplot as plt\n",
    "from scipy.integrate import odeint\n",
    "import cmath\n",
    "from scipy.fft import fft, fftfreq, ifft\n",
    "from scipy.signal import find_peaks\n",
    "from scipy.integrate import solve_ivp\n",
    "from decimal import *\n",
    "from tqdm import tqdm"
   ]
  },
  {
   "cell_type": "code",
   "execution_count": null,
   "metadata": {},
   "outputs": [],
   "source": [
    "# Load the parameters first \n",
    "# All in SI\n",
    "# 2, 0.1 30\n",
    "wrf = 2 * np.pi* 10e9 # 10 GHz\n",
    "wmm = 2 * np.pi* 10e9 # 10 GHz\n",
    "wradical = 2 * np.pi * 1e9 # 2 GHz  \n",
    "waxial = 2 * np.pi * 300e6 # 300 MHz\n",
    "deff = 200e-6 # 200 micron\n",
    "m = 9.10938297e-31 # 9.10938297e-31 kg \n",
    "q = 1.6e-19 # 1.6e-19 C\n",
    "\n",
    "# Here are artical parameter\n",
    "VoverU = 160 \n",
    "r0 = 0.01 # 0.01 m\n",
    "\n",
    "# Here are the tank circuit\n",
    "Rp = 1e7\n",
    "Q = 2000\n",
    "#fres = 1000e7 convlution\n",
    "fres = 0\n",
    "\n",
    "kB = 1.380649e-23 # Boltzman constant, given by Wikipedia\n",
    "Temperature = 0.4 # Temperature for the tank circuit, given by article\n",
    "\n",
    "# Define the spatial step size and the time step size\n",
    "\n",
    "dt = 1e-12 # time step size\n",
    "T = 10e-6 # total time\n",
    "N = round(T/dt)\n",
    "\n",
    "t_eval = np.linspace(0, T, N + 1)\n",
    "\n",
    "# Motion initialization\n",
    "\n",
    "x0, y0, z0, vx0, vy0, vz0 = 10e-6, 10e-6, 5e-6, 0.1, 0.1, 0.1\n",
    "Vec0 = x0, y0, z0, vx0, vy0, vz0\n",
    "\n",
    "# Iteration Steps\n",
    "iteration_steps = 3\n",
    "\n",
    "peak_count = 0\n",
    "progress_bar = tqdm(total=T, desc='Simulated time (s)', position=0, leave=True)"
   ]
  }
 ],
 "metadata": {
  "kernelspec": {
   "display_name": "Python 3",
   "language": "python",
   "name": "python3"
  },
  "language_info": {
   "codemirror_mode": {
    "name": "ipython",
    "version": 3
   },
   "file_extension": ".py",
   "mimetype": "text/x-python",
   "name": "python",
   "nbconvert_exporter": "python",
   "pygments_lexer": "ipython3",
   "version": "3.9.6"
  },
  "orig_nbformat": 4
 },
 "nbformat": 4,
 "nbformat_minor": 2
}
