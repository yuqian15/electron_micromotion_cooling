{
 "cells": [
  {
   "attachments": {},
   "cell_type": "markdown",
   "metadata": {},
   "source": [
    "# Result\n",
    "Created by Wenhan Hua\n",
    "\n",
    "## Week6 19th. - 26th. Feb\n",
    "\n",
    "[Multiply-of-spectrum+BlueSideband+without-force-damping](./Output_Figures/Multi-BlueSideband.png)\n",
    "\n",
    "[Multiply-of-spectrum+RedSideband+without-force-damping](./Output_Figures/Multi-RedSideband.png)\n",
    "\n",
    "[Multiply-of-spectrum+Secular+without-force-damping](./Output_Figures/Multi-Secular.png)\n"
   ]
  },
  {
   "cell_type": "code",
   "execution_count": null,
   "metadata": {},
   "outputs": [],
   "source": []
  }
 ],
 "metadata": {
  "language_info": {
   "name": "python"
  },
  "orig_nbformat": 4
 },
 "nbformat": 4,
 "nbformat_minor": 2
}
