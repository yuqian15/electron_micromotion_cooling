{
 "cells": [
  {
   "attachments": {},
   "cell_type": "markdown",
   "metadata": {},
   "source": [
    "# Result\n",
    "Created by Wenhan Hua\n",
    "\n",
    "## Week6 19th. - 26th. Feb\n",
    "\n",
    "When we multiply the spectrum together, we get:\n",
    "\n",
    "[Multiply+BlueSideband+without-force-damping](./Output_Figures/Multi-BlueSideband.png)\n",
    "\n",
    "[Multiply+RedSideband+without-force-damping](./Output_Figures/Multi-RedSideband.png)\n",
    "\n",
    "[Multiply+Secular+without-force-damping](./Output_Figures/Multi-Secular.png)\n",
    "\n",
    "With spectrum multiplying, we observe:\n",
    "\n",
    "1. Quick cooling in secular-frequency resonator(Since withour force damping, the energy will increase later), Slow cooling in blue sideband frequency resonator, heating in red sideband frequency resonator.\n",
    "\n",
    "2. An unknown -1 should be added into the time-dependent force list, is unexplainable.\n",
    "\n",
    "Without this -1, the result will turn to:\n",
    "\n",
    "[Multiply+BlueSideband+without-force-damping+no-1](./Output_Figures/Multi-BlueSideband-no-1.png)\n",
    "\n",
    "[Multiply+RedSideband+without-force-damping+no-1](./Output_Figures/Multi-RedSideband-no-1.png)\n",
    "\n",
    "[Multiply+Secular+without-force-damping+no-1](./Output_Figures/Multi-Secular-no-1.png)\n",
    "\n",
    "The heating/cooling will be inverse, which cannot be explained.\n",
    "\n",
    "When we convolve the spectrum, we get:\n",
    "\n",
    "[Convolution+BlueSideband+without-force-damping](./Output_Figures/Conv-BlueSideband.png)\n",
    "\n",
    "[Convolution+RedSideband+without-force-damping](./Output_Figures/Conv-RedSideband.png)\n",
    "\n",
    "[Convolution+Secular+without-force-damping](./Output_Figures/Conv-Secular.png)\n",
    "\n",
    "With spectrum convolution, we observe:\n",
    "\n",
    "1. Very quick cooling in secular-frequency resonator(Since withour force damping, the energy will increase later), cooling in blue sideband frequency resonator, heating in red sideband frequency resonator.\n",
    "\n",
    "2. No -1 is needed\n",
    "\n",
    "Then we add Force damping in both cases\n",
    "\n",
    "\n"
   ]
  },
  {
   "cell_type": "code",
   "execution_count": null,
   "metadata": {},
   "outputs": [],
   "source": []
  }
 ],
 "metadata": {
  "language_info": {
   "name": "python"
  },
  "orig_nbformat": 4
 },
 "nbformat": 4,
 "nbformat_minor": 2
}
