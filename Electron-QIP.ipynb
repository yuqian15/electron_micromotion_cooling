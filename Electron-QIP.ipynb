{
 "cells": [
  {
   "attachments": {},
   "cell_type": "markdown",
   "metadata": {},
   "source": [
    "# Created by Wenhan Hua\n",
    "Feb 10th. 2023"
   ]
  },
  {
   "cell_type": "code",
   "execution_count": 67,
   "metadata": {},
   "outputs": [],
   "source": [
    "# Load the needed package\n",
    "%matplotlib inline\n",
    "import numpy as np\n",
    "import matplotlib.pyplot as plt\n",
    "from scipy.integrate import odeint\n",
    "import cmath\n",
    "from scipy.fft import fft, fftfreq, ifft\n",
    "from scipy.signal import find_peaks\n",
    "from scipy.integrate import solve_ivp\n",
    "from decimal import *\n",
    "from tqdm import tqdm"
   ]
  },
  {
   "attachments": {},
   "cell_type": "markdown",
   "metadata": {},
   "source": [
    "Setting the motional constant of the e:\n",
    "- $\\omega_{rf} = \\omega_{mm} = 10 GHz $\n",
    "- $\\omega_{radical} = 2 GHz $\n",
    "- $\\omega_{axial} = 300 MHz $\n",
    "- $ d_{eff} = 200e-6 m $\n",
    "- $ m = 9.10938297e-31 kg $\n",
    "- $ q = 1.6e-19 $"
   ]
  },
  {
   "cell_type": "code",
   "execution_count": 68,
   "metadata": {},
   "outputs": [
    {
     "name": "stderr",
     "output_type": "stream",
     "text": [
      "Simulated time (s):   0%|          | 0/1e-05 [00:00<?, ?it/s]"
     ]
    }
   ],
   "source": [
    "# Load the parameters first \n",
    "# All in SI\n",
    "# 2, 0.1 30\n",
    "wrf = 2 * np.pi* 10e9 # 10 GHz\n",
    "wmm = 2 * np.pi* 10e9 # 10 GHz\n",
    "wradical = 2 * np.pi * 1e9 # 2 GHz  \n",
    "waxial = 2 * np.pi * 300e6 # 300 MHz\n",
    "deff = 200e-6 # 200 micron\n",
    "m = 9.10938297e-31 # 9.10938297e-31 kg \n",
    "q = 1.6e-19 # 1.6e-19 C\n",
    "\n",
    "# Here are artical parameter\n",
    "VoverU = 160 \n",
    "r0 = 0.01 # 0.01 m\n",
    "\n",
    "# Here are the tank circuit\n",
    "Rp = 1e7\n",
    "Q = 2000\n",
    "#fres = 1000e7 convlution\n",
    "fres = 0\n",
    "\n",
    "kB = 1.380649e-23 # Boltzman constant, given by Wikipedia\n",
    "Temperature = 0.4 # Temperature for the tank circuit, given by article\n",
    "\n",
    "# Define the spatial step size and the time step size\n",
    "\n",
    "dt = 1e-12 # time step size\n",
    "T = 10e-6 # total time\n",
    "N = round(T/dt)\n",
    "\n",
    "t_eval = np.linspace(0, T, N + 1)\n",
    "\n",
    "N_segment = 3\n",
    "t_segment = T / N_segment\n",
    "\n",
    "# Motion initialization\n",
    "\n",
    "x0, y0, z0, vx0, vy0, vz0 = 10e-6, 10e-6, 5e-6, 0.1, 0.1, 0.1\n",
    "Vec0 = x0, y0, z0, vx0, vy0, vz0\n",
    "\n",
    "# Iteration Steps\n",
    "iteration_steps = 3\n",
    "\n",
    "peak_count = 0\n",
    "progress_bar = tqdm(total=T, desc='Simulated time (s)', position=0, leave=True)"
   ]
  },
  {
   "attachments": {},
   "cell_type": "markdown",
   "metadata": {},
   "source": [
    "To fix float problem: https://www.youtube.com/watch?v=9-Cpi3hGjrY\n",
    "- use int only\n",
    "- import decimal\n",
    "- import fraction"
   ]
  },
  {
   "attachments": {},
   "cell_type": "markdown",
   "metadata": {},
   "source": [
    "DC harmonic potential:\n",
    "\n",
    "$$V_{dc} = \\kappa U (\\frac{2z^2 - x^2 - y^2}{2 r_0^2})$$\n",
    "\n",
    "RF saddle harmonic potential:\n",
    "\n",
    "$$ V_{rf} = V \\cos(\\Omega_{rf} t) \\frac{x^2 - y^2}{2r_0^2} $$\n",
    "\n",
    "Pesudo potential approximation (not used in dyamics simulation):\n",
    "\n",
    "$$ U_{ps} = \\frac{1}{4m\\Omega_{rf}} (F_{rf})^2 = \\frac{q^2 V^2}{2m\\Omega_{rf}r_0^4}(x^2 + y^2) $$\n",
    "\n",
    "radical secular frequency is:\n",
    "\n",
    "$$\\omega_{x,y} = \\frac{qV}{\\sqrt{2} m\\Omega_{rf}r_0^2} $$\n",
    "\n",
    "$$\\omega_z = \\sqrt{\\frac{q\\kappa U}{mr_0^2}} $$\n",
    "\n",
    "by [littich-thesis.pdf-Page18](./littich-thesis.pdf) \n",
    "\n",
    "(??? Question: it is said $\\omega_u = \\sqrt{a_u + q_u^2/2} \\omega_{rf} /2 = \\sqrt{(\\frac{4qU}{mr_0^2\\Omega^2}) + 2(\\frac{qV}{mr_0^2\\Omega^2})^2 }\\omega_{rf} /2 $ , so the last equation should only holds when $ a_u << (q_u)^2 $ )\n",
    "\n",
    "\n",
    "If we connect the parameter like $U, V, \\kappa, r_0 $ with the intial motional parameter $\\omega_r, \\omega_z$, the potential parameter we chosen will make more sense:\n",
    "\n",
    "$$ V_{dc} = \\frac{1}{2} m \\omega_z^2 \\frac{2z^2 - x^2 - y^2}{2} $$\n",
    "\n",
    "$$ V_{rf} = \\sqrt{2}m\\omega_r \\Omega_{rf}\\cos(\\Omega_{rf} t)\\frac{x^2 - y^2}{2} $$\n",
    "\n",
    "Both $ V_{dc} $ and $ V_{rf} $ have quaratic term , we can get the expression of $ E_{dc} $ and $ E_{rf} $:\n",
    "\n",
    "$$ \\vec{E}_{dc} =\\frac{1}{2q} m \\omega_z^2\\quad( x, y, -2z)^T $$\n",
    "$$ \\vec{E}_{rf} = \\frac{\\sqrt{2}m\\omega_r \\Omega_{rf}}{ q}\\cos(\\Omega_{rf} t) \\quad (-x, y, 0)^T $$\n"
   ]
  },
  {
   "attachments": {},
   "cell_type": "markdown",
   "metadata": {},
   "source": [
    "For simplification, I choose the \"Vec\" for donoting \"x, y, z, vx, vz, vz\""
   ]
  },
  {
   "attachments": {},
   "cell_type": "markdown",
   "metadata": {},
   "source": [
    "Cooling time ratio\n",
    "$$ \\tau_{BS} = \\tau_{Sec} \\times \\frac{\\sqrt{2}\\Omega_{rf}}{\\omega_r}$$"
   ]
  },
  {
   "cell_type": "code",
   "execution_count": 69,
   "metadata": {},
   "outputs": [],
   "source": [
    "def Vdc(Vec, t):\n",
    "    x, y, z, vx, vy, vz = Vec\n",
    "    return 1/4/q * m * waxial ** 2* (2 * z ** 2 - x ** 2 - y ** 2)\n",
    "\n",
    "def Vrf(Vec, t):\n",
    "    x, y, z, vx, vy, vz = Vec\n",
    "    return m * wradical * wrf * np.sqrt(2) / q * np.cos(wrf * t) * (x ** 2- y ** 2) /2\n",
    "\n",
    "def Edc(Vec, t):\n",
    "    x, y, z, vx, vy, vz = Vec\n",
    "    A = 1/2/q * m * waxial ** 2\n",
    "    return A * x, A * y, -2 * A * z\n",
    "\n",
    "def Erf(Vec, t):\n",
    "    x, y, z, vx, vy, vz = Vec\n",
    "    A = m * wradical * wrf * np.cos(wrf * t) * np.sqrt(2) / q\n",
    "    return A * (- x), A * y, 0.\n",
    "\n",
    "# Calculate motional deviation according to Edc and Erf\n",
    "def DevMotion_init(t, Vec):\n",
    "    x, y, z, vx, vy, vz = Vec\n",
    "    Ex, Ey, Ez = tuple(map(sum, zip(Edc(Vec, t),\n",
    "                                    Erf(Vec, t))))\n",
    "    ax = q * Ex / m\n",
    "    ay = q * Ey / m\n",
    "    az = q * Ez / m\n",
    "    progress_bar.update(dt)\n",
    "    return vx, vy, vz, ax, ay, az\n"
   ]
  },
  {
   "attachments": {},
   "cell_type": "markdown",
   "metadata": {},
   "source": [
    "Previously, I used Eular method for intergrating, but the total energy is not conserved, here I apply Runge-Kutta-Fehlberg Method, especially RK 45.\n",
    "\n",
    "- RK45 intro: https://en.wikipedia.org/wiki/Runge%E2%80%93Kutta%E2%80%93Fehlberg_method\n",
    "\n",
    "- Scipy for RK45: scipy.integrate.solve_ivp https://docs.scipy.org/doc/scipy/reference/generated/scipy.integrate.solve_ivp.html\n"
   ]
  },
  {
   "cell_type": "code",
   "execution_count": 70,
   "metadata": {},
   "outputs": [
    {
     "name": "stderr",
     "output_type": "stream",
     "text": [
      "Simulated time (s): 300%|██████████| 3.000000698700157e-05/1e-05 [29:31<-1:40:20, 59038695.12s/it]  \n"
     ]
    }
   ],
   "source": [
    "# Using RK45 to solve the ODE\n",
    "#Amplifier_Num_init = 8\n",
    "Amplifier_Num_init = 1\n",
    "T_init = 5e-6\n",
    "t_eval_init = np.linspace(0, T_init, Amplifier_Num_init * (round(T_init/dt) + 1))\n",
    "solution = solve_ivp(fun=lambda t, Vec: DevMotion_init(t, Vec), \n",
    "                     t_span = (0, T_init), \n",
    "                     y0 = Vec0, \n",
    "                     t_eval = t_eval_init, \n",
    "                     first_step = dt / Amplifier_Num_init,\n",
    "                     max_step = dt / Amplifier_Num_init,\n",
    "                     atol = 1e1,\n",
    "                     rtol = 1e1,\n",
    "                     method = 'RK45')\n",
    "t_init = solution.t\n",
    "VecResult_init = solution.y\n",
    "x_init, y_init, z_init = VecResult_init[0, :], VecResult_init[1, :], VecResult_init[2, :]\n",
    "vx_init, vy_init, vz_init = VecResult_init[3, :], VecResult_init[4, :], VecResult_init[5, :]\n",
    "progress_bar.close()\n",
    "\n"
   ]
  },
  {
   "cell_type": "code",
   "execution_count": 71,
   "metadata": {},
   "outputs": [
    {
     "data": {
      "image/png": "[encoded data removed]",
      "text/plain": [
       "<Figure size 640x480 with 2 Axes>"
      ]
     },
     "metadata": {},
     "output_type": "display_data"
    }
   ],
   "source": [
    "# Plot the x-axis motion\n",
    "fig1, ax = plt.subplots(1,2)\n",
    "\n",
    "# Plot the data on the axes\n",
    "ax[0].plot(t_init*1e6, x_init)\n",
    "# ax[0].plot(t_init*1e6, vx_init)\n",
    "\n",
    "# Add labels to the axes\n",
    "ax[0].set_xlabel('t(\\mu s)')\n",
    "ax[0].set_ylabel('x(t)')\n",
    "\n",
    "# Plot the data on the axes\n",
    "Zoomnum = round(0.6e-7/dt)\n",
    "ax[1].plot(t_init[:Zoomnum]*1e6, x_init[:Zoomnum])\n",
    "\n",
    "# Add labels to the axes\n",
    "ax[1].set_xlabel('t(\\mu s)')\n",
    "ax[1].set_ylabel('x(t)')\n",
    "\n",
    "# Show the plot\n",
    "plt.show()"
   ]
  },
  {
   "attachments": {},
   "cell_type": "markdown",
   "metadata": {},
   "source": [
    "Get the spectrum of the motion, using ```scipy.fft.fft ```and ```scipy.fft.fftfreq```\n",
    "\n",
    "https://docs.scipy.org/doc/scipy/reference/generated/scipy.fft.fft.html\n",
    "\n",
    "using ```scipy.signal.find_peaks``` to find peaks and make captions\n",
    "\n",
    "https://docs.scipy.org/doc/scipy/reference/generated/scipy.signal.find_peaks.html\n",
    "\n",
    "About how to normalize the spectrum of a FT spectrum, there are several ways:\n",
    "\n",
    "- divide the amplitude by duration\n",
    "\n",
    "- divide the amplitude by maximum\n",
    "\n",
    "- divide the amplitude by standard deviation"
   ]
  },
  {
   "cell_type": "code",
   "execution_count": 72,
   "metadata": {},
   "outputs": [
    {
     "data": {
      "image/png": "[encoded data removed]",
      "text/plain": [
       "<Figure size 640x480 with 1 Axes>"
      ]
     },
     "metadata": {},
     "output_type": "display_data"
    }
   ],
   "source": [
    "# Get the fourier spectrum of velocity\n",
    "\n",
    "vxf_init = fft(vx_init)\n",
    "vyf_init = fft(vy_init)\n",
    "vzf_init = fft(vz_init)\n",
    "tf = fftfreq(len(vx_init), dt / Amplifier_Num_init)\n",
    "\n",
    "Front = 0\n",
    "Cutoff = 8\n",
    "vf = vxf_init[Front:Front + (vxf_init.size//Cutoff//2)]\n",
    "ttf = tf[:len(vx_init)//2]\n",
    "ttf = ttf[Front:Front + (ttf.size//Cutoff)]\n",
    "\n",
    "# Get normalized magnitude of specturm\n",
    "N_vf_init = 2.0/(Amplifier_Num_init * (N+1)) * np.abs(vf[0:len(vx_init)//2])\n",
    "\n",
    "\n",
    "# use find_peaks to get all the peaks\n",
    "peaks, _ = find_peaks(N_vf_init, height=0)\n",
    "\n",
    "\n",
    "# we only need the three largest peaks, therefore we find a border and find peaks again\n",
    "temp = N_vf_init[peaks]\n",
    "temp.sort()\n",
    "temp = temp[::-1]\n",
    "border = ( temp[3] + temp[2])/2\n",
    "#border = 0\n",
    "peaks, heights = find_peaks(N_vf_init, height= border)\n",
    "\n",
    "#print(\"The location of the three largest peaks is {}, {}, {} Hz\".format(tf[peaks[0]], tf[peaks[1]], tf[peaks[2]]))\n",
    "\n",
    "# Plot the result\n",
    "plt.plot(ttf, N_vf_init)\n",
    "plt.plot(ttf[peaks], N_vf_init[peaks], \"x\")\n",
    "\n",
    "#for i in range(0,3):                                      \n",
    "    #plt.text(ttf[peaks[i]], N_vf_init[peaks[i]], \"%f\" % N_vf[peaks[i]])\n",
    "    #plt.text(ttf[peaks[i]], N_vf_init[peaks[i]], \"%f\" % ttf[peaks[i]])\n",
    "\n",
    "# Regenerate the resonator's frequency by the third peak position\n",
    "fres = ttf[peaks[peak_count]]\n",
    "\n",
    "# Calculate the average of the velocity in the first micromotion peroid\n",
    "Tradical = 1 / ttf[peaks[0]]\n",
    "#Nsec = round(Tradical / dt * Amplifier_Num_init)\n",
    "\n",
    "#vx_Nsec = list(vx_init[: Nsec])\n",
    "#vy_Nsec = list(vy_init[: Nsec])\n",
    "#vz_Nsec = list(vz_init[: Nsec])\n",
    "\n",
    "#vx_init_Ampl = sum(abs(ele) for ele in vx_Nsec) / Nsec\n",
    "#vy_init_Ampl = sum(abs(ele) for ele in vy_Nsec) / Nsec\n",
    "#vz_init_Ampl = sum(abs(ele) for ele in vz_Nsec) / Nsec\n",
    "\n",
    "plt.xlabel('Frequency (Hz)')\n",
    "plt.ylabel('Magnitude')\n",
    "plt.yscale('log')\n",
    "plt.title('Frequency spectrum')\n",
    "plt.grid()\n",
    "plt.show()"
   ]
  },
  {
   "cell_type": "code",
   "execution_count": 73,
   "metadata": {},
   "outputs": [
    {
     "name": "stdout",
     "output_type": "stream",
     "text": [
      "199999.960000008\n"
     ]
    }
   ],
   "source": [
    "print(tf[1]- tf[0])"
   ]
  },
  {
   "attachments": {},
   "cell_type": "markdown",
   "metadata": {},
   "source": [
    "- induced current : $I = ev/d_{eff}$\n",
    "- induced voltage : $U = IR = I Re(Z) = Re(Z) ev/d_{eff}$\n",
    "- induced force : $F = -e U/d = - Re(Z) \\frac{e^2}{d_{eff}^2} v$\n",
    "\n",
    "$ Re(Z)$ can have time dependence, thus acting on the electron by different pattern. In a RLC parallel circuit, the impetence $ Z $ in the frequency domin is given by:\n",
    "\n",
    "$$ Z_{LC} = (\\frac{1}{R_p} + i\\omega C + \\frac{1}{i\\omega L})^{-1} = \\frac{R_p}{[1+iQ(\\frac{\\omega}{\\omega_R} - \\frac{\\omega_R}{\\omega} )]} $$\n",
    "\n",
    "Real part and imaginary part:\n",
    "\n",
    "$$ Re(Z_{LC}) = \\frac{R_p}{1 + Q^2(\\frac{w_R + dw}{w_R}- \\frac{w_R}{w_R + dw})^2} $$\n",
    "\n",
    "$$ Im(Z_{LC}) = - \\frac{R_p Q(\\frac{w_R + dw}{w_R}- \\frac{w_R}{w_R + dw})}{1 + Q^2(\\frac{w_R + dw}{w_R}- \\frac{w_R}{w_R + dw})^2} $$\n",
    "\n",
    "where $dw$ means the detuning from $w_R$, $dw = w - w_R$\n",
    "\n",
    "In the time domin: \n",
    "\n",
    "$$F(t) = -e U/d = - Re[Z](t) \\frac{e^2}{d_{eff}^2} v(t)$$\n",
    "\n",
    "According to https://www.princeton.edu/~cuff/ele201/kulkarni_text/frequency.pdf,\n",
    "\n",
    "$$ x(t)y(t) \\leftrightarrow \\frac{1}{2\\pi}X(\\omega) * Y(\\omega) = \\frac{1}{2\\pi} \\int_{-\\infty}^{+\\infty} X(\\eta) Y(\\omega - \\eta) d\\eta $$\n",
    "\n"
   ]
  },
  {
   "attachments": {},
   "cell_type": "markdown",
   "metadata": {},
   "source": [
    "A force damping is needed for real circumstances, the damping force should be modified by a velocity factor $ \\bar{v}(t)/\\bar{v}(0)$, So the force should be $$F(v) = F(v_0) \\times |\\bar{v}(t)/\\bar{v}(0)|,$$ where $F(v_0)$ means the damping force was initially calculated by only veclocity without damping force, not the real force concerning real velocity, the bar means we need to calculate the velocity amplitude average in a rf period."
   ]
  },
  {
   "cell_type": "code",
   "execution_count": 74,
   "metadata": {},
   "outputs": [],
   "source": [
    "tf[0] = 1e-5\n",
    "\n",
    "Rezf = Rp / (1 + Q ** 2 * (tf / fres - fres / tf) ** 2)\n",
    "Imzf = Rp *  Q  * (tf / fres - fres / tf) / (1 + Q ** 2 * (tf / fres - fres / tf) ** 2)\n",
    "Rezf = np.array(Rezf)\n",
    "Imzf = np.array(Imzf)\n",
    "zf = Rezf + 1j * Imzf\n",
    "\n",
    "# This is for convolution of the spectrum\n",
    "#Damping_Exf =np.convolve(vxf_init, zf)\n",
    "\n",
    "# This is for multiply of the spectrum\n",
    "Damping_Exf = np.multiply(vxf_init, zf)\n",
    "\n",
    "Damping_Ex_t = np.real(ifft(Damping_Exf))\n",
    "Damping_Ex = list(Damping_Ex_t.real)\n",
    "# An additional general -1 should be added, because this is damping force\n",
    "Damping_Ex =[- q / deff ** 2 * a for a in Damping_Ex]\n",
    "Damping_Ex_Ampl = (abs(max(Damping_Ex)) + abs(min(Damping_Ex))) / 2\n",
    "phase = np.arcsin(Damping_Ex[0] / Damping_Ex_Ampl)\n",
    "#phase = 0.\n",
    "# Generate the JNNoise to be added into the simulation\n",
    "\n",
    "Amplifier_Num_init = 1\n",
    "U_rms = np.sqrt(4 * kB * Temperature * Rp * Amplifier_Num_init / dt)\n",
    "\n",
    "# Considering Non-Markovian JN-noise, there is a correlation time -> correlation number in the list\n",
    "Ncorr = round(1 / fres * Q / dt * Amplifier_Num_init) # 1 / fres is the correlation time, so /dt brings Ncorr\n",
    "\n",
    "\n",
    "#if Ncorr % 2 == 0:\n",
    "#    Ncorr = Ncorr + 1\n",
    "def noise_on_trap(U_rms, samplerate, samples, R, fres, bandwidth = U_rms):\n",
    "    t = np.linspace(0, samples / samplerate, int(samples))\n",
    "    \n",
    "    signal = np.random.normal(0, bandwidth, size = len(t))\n",
    "    X = np.fft.fft(signal)\n",
    "    N = len(X)\n",
    "    freqs = np.fft.fftfreq(N) * samplerate\n",
    "    freqs[0] = 1e-5\n",
    "    f_U_noise = U_rms * X / ( 1 +  1j * Q * R * (freqs / fres - fres / freqs))\n",
    "    U_noise = np.fft.ifft(f_U_noise)\n",
    "    return np.real(U_noise)\n",
    "\n",
    "JNNoise_Ex = 1 / deff * noise_on_trap(U_rms= U_rms, samplerate= Amplifier_Num_init / dt, samples= 1.05 * T / dt * Amplifier_Num_init, R = Rp, fres = fres)\n",
    "JNNoise_Ey = 1 / deff * noise_on_trap(U_rms= U_rms, samplerate= Amplifier_Num_init / dt, samples= 1.05 * T / dt * Amplifier_Num_init, R = Rp, fres = fres)\n",
    "JNNoise_Ez = 1 / deff * noise_on_trap(U_rms= U_rms, samplerate= Amplifier_Num_init / dt, samples= 1.05 * T / dt * Amplifier_Num_init, R = Rp, fres = fres)\n"
   ]
  },
  {
   "cell_type": "code",
   "execution_count": 75,
   "metadata": {},
   "outputs": [
    {
     "data": {
      "text/plain": [
       "\"\\nplt.plot(np.array(t_eval_init) * 1e6, JNNoise_Ex[:len(t_eval_init)])\\nplt.xlabel('Time( $\\\\mu$s)')\\nplt.ylabel('Noise field')\\nplt.title('Noise with time')\\nplt.grid()\\nplt.show()\\n\""
      ]
     },
     "execution_count": 75,
     "metadata": {},
     "output_type": "execute_result"
    }
   ],
   "source": [
    "'''\n",
    "plt.plot(np.array(t_eval_init) * 1e6, JNNoise_Ex[:len(t_eval_init)])\n",
    "plt.xlabel('Time( $\\mu$s)')\n",
    "plt.ylabel('Noise field')\n",
    "plt.title('Noise with time')\n",
    "plt.grid()\n",
    "plt.show()\n",
    "'''"
   ]
  },
  {
   "cell_type": "code",
   "execution_count": 76,
   "metadata": {},
   "outputs": [],
   "source": [
    "DampingFactor_x_min, DampingFactor_y_min, DampingFactor_z_min = 1., 1., 1.\n",
    "temp = 0\n",
    "last_posi = -1\n",
    "DampingFactor_list = []\n",
    "DampingFactor_tlist = []\n",
    "# Calculate the damping force coefficient \n",
    "def DampingFactor(Vec_init, Vec, t):\n",
    "    # This for damping facroe\n",
    "   \n",
    "    #posi = round(t/dt * Amplifier_Num_init)\n",
    "    posi = int(t / dt * Amplifier_Num_init)\n",
    "    #print(posi)\n",
    "    global DampingFactor_x_min\n",
    "    global DampingFactor_y_min\n",
    "    global DampingFactor_z_min\n",
    "    global vx_init_Ampl\n",
    "    global vy_init_Ampl\n",
    "    global vz_init_Ampl\n",
    "    x, y, z, vx, vy, vz = Vec\n",
    "    '''\n",
    "    vx_Nsec.pop(0)\n",
    "    vy_Nsec.pop(0)\n",
    "    vz_Nsec.pop(0)\n",
    "    vx_Nsec.append(vx)\n",
    "    vy_Nsec.append(vy)\n",
    "    vz_Nsec.append(vz)\n",
    "    vx_Ampl = sum(abs(ele) for ele in vx_Nsec) / Nsec\n",
    "    vy_Ampl = sum(abs(ele) for ele in vy_Nsec) / Nsec\n",
    "    vz_Ampl = sum(abs(ele) for ele in vz_Nsec) / Nsec\n",
    "    #DampingFactor_list.append(np.sqrt(vx_Ampl ** 2 / vx_init_Ampl ** 2 + vy_Ampl ** 2 / vy_init_Ampl ** 2 + vz_Ampl ** 2 / vz_init_Ampl ** 2))\n",
    "    \n",
    "    return vx_Ampl / vx_init_Ampl, vy_Ampl / vy_init_Ampl, vz_Ampl / vz_init_Ampl\n",
    "    '''\n",
    "    # Do a linear approximation \n",
    "    #vx_init_temp = vx_init[posi] + (vx_init[posi + 1] - vx_init[posi]) * (t/dt * Amplifier_Num_init - posi)\n",
    "    #vy_init_temp = vy_init[posi] + (vx_init[posi + 1] - vx_init[posi]) * (t/dt * Amplifier_Num_init - posi)\n",
    "    #vz_init_temp = vz_init[posi] + (vx_init[posi + 1] - vx_init[posi]) * (t/dt * Amplifier_Num_init - posi)\n",
    "\n",
    "    _, _, _, vx_init, vy_init, vz_init = Vec_init\n",
    "    if abs(vx / vx_init) > 1000 or abs(vx_init) < 1e-6:\n",
    "        return 1000., 1000., 1000.\n",
    "        #return 0., 0., 0.\n",
    "\n",
    "    \n",
    "    #Temp_Compare_list.pop(0)\n",
    "    #Temp_Compare_list.append(temp)\n",
    "    \n",
    "    #if np.std(Temp_Compare_list) < 5e-2 and abs(vx / vx_init_temp) < 5e-2:\n",
    "        #return 0., 0., 0.\n",
    "\n",
    "        #DampingFactor_x_min = min(abs(vx / vx_init_temp), DampingFactor_x_min)\n",
    "        #DampingFactor_y_min = min(abs(vy / vy_init_temp), DampingFactor_y_min)\n",
    "        #DampingFactor_z_min = min(abs(vy / vz_init_temp), DampingFactor_z_min)\n",
    "        #return DampingFactor_x_min, DampingFactor_y_min, DampingFactor_z_min\n",
    "    #return min(1., abs(vx /  vx_init_temp) ), min(1., abs(vy / vy_init_temp) ),min(1., abs(vz / vz_init_temp) )\n",
    "    return vx /  vx_init , 0., 0.\n",
    "    #return abs(vx /  vx_init_temp) / 2 , abs(vy / vy_init_temp) / 2 , abs(vz / vz_init_temp) / 2\n",
    "    \n",
    "    #return round(abs(vx / vx_init[posi]),round_num), round(abs(vy / vy_init[posi]),round_num), round(abs(vz / vz_init[posi]), round_num)\n",
    "    #DampingFactor_list.append(np.sqrt(vx ** 2 / vx_init_Ampl ** 2 + vy ** 2 / vy_init_Ampl ** 2 + vz ** 2 / vz_init_Ampl ** 2))\n",
    "    #return np.sqrt(vx ** 2 / vx_init_Ampl ** 2 + vy ** 2 / vy_init_Ampl ** 2 + vz ** 2 / vz_init_Ampl ** 2)\n",
    "    #return 1.,1.,1.\n",
    "\n",
    "# Calculate the Damping force generated by tank circuit\n",
    "\n",
    "def DampingForce_list(Vec_init, Vec, t):\n",
    "    global last_posi\n",
    "    global DampingFactor_list\n",
    "    global DampingFactor_tlist\n",
    "    posi = int(t/dt * Amplifier_Num_init)\n",
    "    last_posi = posi\n",
    "    # This is for damping factor method\n",
    "    DampingFactorx, DampingFactory, DampingFactorz = DampingFactor(Vec_init, Vec, t)\n",
    "    #if 9990 < posi < 10050:\n",
    "        #print('posi = {}'.format(posi))\n",
    "        #print('DampingFactorx={}'.format(DampingFactorx))\n",
    "        #print('temp:{}'.format(temp))\n",
    "        #print('t = {} us'.format(t * 1e6))\n",
    "        #print(DampingFactor_x_min)\n",
    "        #print(vx)\n",
    "\n",
    "    DampingFactor_tlist.append(t)\n",
    "    DampingFactor_list.append(DampingFactorx)\n",
    "    Damping_Ex_init = Damping_Ex[posi] + (Damping_Ex[posi + 1] - Damping_Ex[posi]) * (t/dt * Amplifier_Num_init - posi)\n",
    "    #Damping_Ey_init = Damping_Ey[posi] + (Damping_Ey[posi + 1] - Damping_Ex[posi]) * (t/dt * Amplifier_Num_init - posi)\n",
    "    #Damping_Ez_init = Damping_Ez[posi] + (Damping_Ez[posi + 1] - Damping_Ex[posi]) * (t/dt * Amplifier_Num_init - posi)\n",
    "    return DampingFactorx * Damping_Ex_init, 0., 0.\n",
    "    # This is for time-segment method\n",
    "    #return Damping_Ex_temp[posi], 0., 0.\n",
    "    # This is for time-domain method\n",
    "    # Damping_Ex.append(Rez_t[posi] * vx)\n",
    "    # return Rez_t[posi] * vx, 0., 0.\n",
    "def DampingForce(Vec_init, Vec, t):\n",
    "    global Damping_Ex_Ampl\n",
    "    global fres\n",
    "    x_init, y_init, z_init, vx_init, vy_init, vz_init = Vec_init\n",
    "    x, y, z, vx, vy, vz = Vec\n",
    "    #DampingFactor_tlist.append(t)\n",
    "    \n",
    "    if abs(vx / vx_init) > 10 or abs(vx_init) < 1e-6 or vx_init == 0:\n",
    "        #DampingFactor_list.append(10)\n",
    "        #return 0., 0.,0.\n",
    "        if vx_init == 0:\n",
    "            return 0., 0., 0.\n",
    "        if vx / vx_init > 0:\n",
    "            return Damping_Ex_Ampl * 10 * np.sin(2 * np.pi * fres * t), 0., 0.\n",
    "        if vx / vx_init < 0:\n",
    "            return - Damping_Ex_Ampl * 10 * np.sin(2 * np.pi * fres * t), 0., 0.\n",
    "\n",
    "    #DampingFactor_list.append(vx / vx_init)\n",
    "    return Damping_Ex_Ampl * vx / vx_init * np.sin(2 * np.pi * fres * t + phase), 0., 0.\n",
    "\n",
    "#Calculate the JN noise of the circuit\n",
    "def JNNoise(Vec, t):\n",
    "    posi = int(t/dt * Amplifier_Num_init)\n",
    "\n",
    "    return JNNoise_Ex[posi] + (JNNoise_Ex[posi + 1] - JNNoise_Ex[posi]) * (t/dt * Amplifier_Num_init - posi), 0., 0.\n",
    "    #return 0., 0., 0.\n",
    "\n",
    "# Calculate motional deviation according to Edc and Erf\n",
    "def DevMotion(t, Vec):\n",
    "    x, y, z, vx, vy, vz = Vec\n",
    "    Ex, Ey, Ez = tuple(map(sum, zip(Edc(Vec, t),\n",
    "                                    Erf(Vec, t),\n",
    "                                    DampingForce(Vec, t),\n",
    "                                    JNNoise(Vec, t))))\n",
    "    \n",
    "    ax = q * Ex / m\n",
    "    ay = q * Ey / m\n",
    "    az = q * Ez / m\n",
    "    progress_bar.update(dt)\n",
    "    return vx, vy, vz, ax, ay, az\n",
    "\n",
    "def DevMotion_para(t, Vec_para):\n",
    "    \n",
    "    x_init, y_init, z_init, vx_init, vy_init, vz_init, x, y, z, vx, vy, vz = Vec_para\n",
    "    Vec_init = x_init, y_init, z_init, vx_init, vy_init, vz_init\n",
    "    Vec = x, y, z, vx, vy, vz\n",
    "    Ex, Ey, Ez = tuple(map(sum, zip(Edc(Vec, t),\n",
    "                                    Erf(Vec, t),\n",
    "                                    DampingForce(Vec_init, Vec, t),\n",
    "                                    JNNoise(Vec, t)\n",
    "                                    )))\n",
    "    ax = q * Ex / m\n",
    "    ay = q * Ey / m\n",
    "    az = q * Ez / m\n",
    "\n",
    "    Ex_init, Ey_init, Ez_init = tuple(map(sum, zip(Edc(Vec_init, t),\n",
    "                                                   Erf(Vec_init, t),\n",
    "                                                  )))\n",
    "    ax_init = q * Ex_init / m\n",
    "    ay_init = q * Ey_init / m\n",
    "    az_init = q * Ez_init / m\n",
    "    progress_bar.update(dt)\n",
    "    return vx_init, vy_init, vz_init, ax_init, ay_init, az_init, vx, vy, vz, ax, ay, az\n",
    "\n",
    "def rk45_fixed_step(f, t0, y0, t_max, dt):\n",
    "    t = [t0]\n",
    "    y_x0, y_y0, y_z0, y_vx0, y_vy0, y_vz0 = y0\n",
    "    y_x = [y_x0]\n",
    "    y_y = [y_y0]\n",
    "    y_z = [y_z0]\n",
    "    y_vx = [y_vx0]\n",
    "    y_vy = [y_vy0]\n",
    "    y_vz = [y_vz0]\n",
    "\n",
    "    while t[-1] + dt < t_max:\n",
    "        k1_x, k1_y, k1_z, k1_vx, k1_vy, k1_vz = f(t[-1], (y_x[-1], y_y[-1], y_z[-1], y_vx[-1], y_vy[-1], y_vz[-1]))\n",
    "        k1_x, k1_y, k1_z, k1_vx, k1_vy, k1_vz = dt * k1_x, dt * k1_y, dt *  k1_z, dt * k1_vx, dt * k1_vy, dt * k1_vz \n",
    "        k2_x, k2_y, k2_z, k2_vx, k2_vy, k2_vz = f(t[-1] + 0.25 * dt, (y_x[-1] + 0.25 * k1_x, y_y[-1] + 0.25 * k1_y, y_z[-1] + 0.25 * k1_z, y_vx[-1] + 0.25 * k1_vx, y_vy[-1] + 0.25 * k1_vy, y_vz[-1] + 0.25 * k1_vz))\n",
    "        k2_x, k2_y, k2_z, k2_vx, k2_vy, k2_vz = dt *k2_x, dt * k2_y, dt * k2_z, dt * k2_vx, dt * k2_vy, dt * k2_vz\n",
    "        k3_x, k3_y, k3_z, k3_vx, k3_vy, k3_vz = f(t[-1] + 0.75 * dt, (y_x[-1] + 0.75 * k2_x, y_y[-1] + 0.75 * k2_y, y_z[-1] + 0.75 * k2_z, y_vx[-1] + 0.75 * k2_vx, y_vy[-1] + 0.75 * k2_vy, y_vz[-1] + 0.75 * k2_vz))\n",
    "        k3_x, k3_y, k3_z, k3_vx, k3_vy, k3_vz = dt *k3_x, dt * k3_y, dt * k3_z, dt * k3_vx, dt * k3_vy, dt * k3_vz\n",
    "        k4_x, k4_y, k4_z, k4_vx, k4_vy, k4_vz = f(t[-1] + dt,\\\n",
    "                                                    (y_x[-1] + k1_x/6 + k2_x/3 + k3_x/3,\\\n",
    "                                                            y_y[-1] + k1_y/6 + k2_y/3 + k3_y/3,\\\n",
    "                                                                y_z[-1] + k1_z/6 + k2_z/3 + k3_z/3,\\\n",
    "                                                                    y_vx[-1] + k1_vx/6 + k2_vx/3 + k3_vx/3,\\\n",
    "                                                                        y_vy[-1] + k1_vy/6 + k2_vy/3 + k3_vy/3,\\\n",
    "                                                                            y_vz[-1] + k1_vz/6 + k2_vz/3 + k3_vz/3,))\n",
    "        k4_x, k4_y, k4_z, k4_vx, k4_vy, k4_vz = dt *k4_x, dt * k4_y, dt * k4_z, dt * k4_vx, dt * k4_vy, dt * k4_vz\n",
    "        next_x = y_x[-1] + k1_x/6 + k2_x/3 + k3_x/3 + k4_x/6\n",
    "        next_y = y_y[-1] + k1_y/6 + k2_y/3 + k3_y/3 + k4_y/6\n",
    "        next_z = y_z[-1] + k1_z/6 + k2_z/3 + k3_z/3 + k4_z/6\n",
    "        next_vx = y_vx[-1] + k1_vx/6 + k2_vx/3 + k3_vx/3 + k4_vx/6\n",
    "        next_vy = y_vy[-1] + k1_vy/6 + k2_vy/3 + k3_vy/3 + k4_vy/6\n",
    "        next_vz = y_vz[-1] + k1_vz/6 + k2_vz/3 + k3_vz/3 + k4_vz/6\n",
    "        \n",
    "        t.append(t[-1] + dt)\n",
    "        y_x.append(next_x)\n",
    "        y_y.append(next_y)\n",
    "        y_z.append(next_z)\n",
    "        y_vx.append(next_vx)\n",
    "        y_vy.append(next_vy)\n",
    "        y_vz.append(next_vz)\n",
    "\n",
    "    return np.array(t), np.array(y_x), np.array(y_y), np.array(y_z), np.array(y_vx), np.array(y_vy), np.array(y_vz)\n",
    "\n",
    "\n",
    "def rk45_fixed_step_para(f, t0, y0, t_max, dt):\n",
    "    t = [t0]\n",
    "    y_x0_init, y_y0_init, y_z0_init, y_vx0_init, y_vy0_init, y_vz0_init, y_x0, y_y0, y_z0, y_vx0, y_vy0, y_vz0 = y0\n",
    "    y_x_init = [y_x0_init]\n",
    "    y_y_init = [y_y0_init]\n",
    "    y_z_init = [y_z0_init]\n",
    "    y_vx_init = [y_vx0_init]\n",
    "    y_vy_init = [y_vy0_init]\n",
    "    y_vz_init = [y_vz0_init]\n",
    "    y_x = [y_x0]\n",
    "    y_y = [y_y0]\n",
    "    y_z = [y_z0]\n",
    "    y_vx = [y_vx0]\n",
    "    y_vy = [y_vy0]\n",
    "    y_vz = [y_vz0]\n",
    "\n",
    "    while t[-1] + dt < t_max:\n",
    "        k1_x_init, k1_y_init, k1_z_init, k1_vx_init, k1_vy_init, k1_vz_init, k1_x, k1_y, k1_z, k1_vx, k1_vy, k1_vz \\\n",
    "            = f(t[-1],(y_x_init[-1], y_y_init[-1], y_z_init[-1], y_vx_init[-1], y_vy_init[-1], y_vz_init[-1], y_x[-1], y_y[-1], y_z[-1], y_vx[-1], y_vy[-1], y_vz[-1]))\n",
    "        k1_x_init, k1_y_init, k1_z_init, k1_vx_init, k1_vy_init, k1_vz_init, k1_x, k1_y, k1_z, k1_vx, k1_vy, k1_vz \\\n",
    "            = dt * k1_x_init, dt * k1_y_init, dt *  k1_z_init, dt * k1_vx_init, dt * k1_vy_init, dt * k1_vz_init, dt * k1_x, dt * k1_y, dt *  k1_z, dt * k1_vx, dt * k1_vy, dt * k1_vz \n",
    "        k2_x_init, k2_y_init, k2_z_init, k2_vx_init, k2_vy_init, k2_vz_init, k2_x, k2_y, k2_z, k2_vx, k2_vy, k2_vz \\\n",
    "            = f(t[-1] + 0.25 * dt, \\\n",
    "                (y_x_init[-1] + 0.25 * k1_x_init, y_y_init[-1] + 0.25 * k1_y_init, y_z_init[-1] + 0.25 * k1_z_init, y_vx_init[-1] + 0.25 * k1_vx_init, y_vy_init[-1] + 0.25 * k1_vy_init, y_vz_init[-1] + 0.25 * k1_vz_init,\\\n",
    "                y_x[-1] + 0.25 * k1_x, y_y[-1] + 0.25 * k1_y, y_z[-1] + 0.25 * k1_z, y_vx[-1] + 0.25 * k1_vx, y_vy[-1] + 0.25 * k1_vy, y_vz[-1] + 0.25 * k1_vz))\n",
    "        k2_x_init, k2_y_init, k2_z_init, k2_vx_init, k2_vy_init, k2_vz_init, k2_x, k2_y, k2_z, k2_vx, k2_vy, k2_vz \\\n",
    "            = dt *k2_x_init, dt * k2_y_init, dt * k2_z_init, dt * k2_vx_init, dt * k2_vy_init, dt * k2_vz_init, dt *k2_x, dt * k2_y, dt * k2_z, dt * k2_vx, dt * k2_vy, dt * k2_vz\n",
    "        k3_x_init, k3_y_init, k3_z_init, k3_vx_init, k3_vy_init, k3_vz_init, k3_x, k3_y, k3_z, k3_vx, k3_vy, k3_vz \\\n",
    "            = f(t[-1] + 0.75 * dt, \\\n",
    "                (y_x_init[-1] + 0.75 * k2_x_init, y_y_init[-1] + 0.75 * k2_y_init, y_z_init[-1] + 0.75 * k2_z_init, y_vx_init[-1] + 0.75 * k2_vx_init, y_vy_init[-1] + 0.75 * k2_vy_init, y_vz_init[-1] + 0.75 * k2_vz_init,\\\n",
    "                y_x[-1] + 0.75 * k2_x, y_y[-1] + 0.75 * k2_y, y_z[-1] + 0.75 * k2_z, y_vx[-1] + 0.75 * k2_vx, y_vy[-1] + 0.75 * k2_vy, y_vz[-1] + 0.75 * k2_vz))\n",
    "        k3_x_init, k3_y_init, k3_z_init, k3_vx_init, k3_vy_init, k3_vz_init, k3_x, k3_y, k3_z, k3_vx, k3_vy, k3_vz \\\n",
    "            = dt *k3_x_init, dt * k3_y_init, dt * k3_z_init, dt * k3_vx_init, dt * k3_vy_init, dt * k3_vz_init, dt *k3_x, dt * k3_y, dt * k3_z, dt * k3_vx, dt * k3_vy, dt * k3_vz\n",
    "        k4_x_init, k4_y_init, k4_z_init, k4_vx_init, k4_vy_init, k4_vz_init, k4_x, k4_y, k4_z, k4_vx, k4_vy, k4_vz = f(t[-1] + dt,\\\n",
    "                                                    (y_x_init[-1] + k1_x_init/6 + k2_x_init/3 + k3_x_init/3,\\\n",
    "                                                            y_y_init[-1] + k1_y_init/6 + k2_y_init/3 + k3_y_init/3,\\\n",
    "                                                                y_z_init[-1] + k1_z_init/6 + k2_z_init/3 + k3_z_init/3,\\\n",
    "                                                                    y_vx_init[-1] + k1_vx_init/6 + k2_vx_init/3 + k3_vx_init/3,\\\n",
    "                                                                        y_vy_init[-1] + k1_vy_init/6 + k2_vy_init/3 + k3_vy_init/3,\\\n",
    "                                                                            y_vz_init[-1] + k1_vz_init/6 + k2_vz_init/3 + k3_vz_init/3,\\\n",
    "                                                    y_x[-1] + k1_x/6 + k2_x/3 + k3_x/3,\\\n",
    "                                                            y_y[-1] + k1_y/6 + k2_y/3 + k3_y/3,\\\n",
    "                                                                y_z[-1] + k1_z/6 + k2_z/3 + k3_z/3,\\\n",
    "                                                                    y_vx[-1] + k1_vx/6 + k2_vx/3 + k3_vx/3,\\\n",
    "                                                                        y_vy[-1] + k1_vy/6 + k2_vy/3 + k3_vy/3,\\\n",
    "                                                                            y_vz[-1] + k1_vz/6 + k2_vz/3 + k3_vz/3))\n",
    "        k4_x_init, k4_y_init, k4_z_init, k4_vx_init, k4_vy_init, k4_vz_init, k4_x, k4_y, k4_z, k4_vx, k4_vy, k4_vz \\\n",
    "            = dt * k4_x_init, dt * k4_y_init, dt * k4_z_init, dt * k4_vx_init, dt * k4_vy_init, dt * k4_vz_init, dt * k4_x, dt * k4_y, dt * k4_z, dt * k4_vx, dt * k4_vy, dt * k4_vz\n",
    "        next_x_init = y_x_init[-1] + k1_x_init/6 + k2_x_init/3 + k3_x_init/3 + k4_x_init/6\n",
    "        next_y_init = y_y_init[-1] + k1_y_init/6 + k2_y_init/3 + k3_y_init/3 + k4_y_init/6\n",
    "        next_z_init = y_z_init[-1] + k1_z_init/6 + k2_z_init/3 + k3_z_init/3 + k4_z_init/6\n",
    "        next_vx_init = y_vx_init[-1] + k1_vx_init/6 + k2_vx_init/3 + k3_vx_init/3 + k4_vx_init/6\n",
    "        next_vy_init = y_vy_init[-1] + k1_vy_init/6 + k2_vy_init/3 + k3_vy_init/3 + k4_vy_init/6\n",
    "        next_vz_init = y_vz_init[-1] + k1_vz_init/6 + k2_vz_init/3 + k3_vz_init/3 + k4_vz_init/6\n",
    "        next_x = y_x[-1] + k1_x/6 + k2_x/3 + k3_x/3 + k4_x/6\n",
    "        next_y = y_y[-1] + k1_y/6 + k2_y/3 + k3_y/3 + k4_y/6\n",
    "        next_z = y_z[-1] + k1_z/6 + k2_z/3 + k3_z/3 + k4_z/6\n",
    "        next_vx = y_vx[-1] + k1_vx/6 + k2_vx/3 + k3_vx/3 + k4_vx/6\n",
    "        next_vy = y_vy[-1] + k1_vy/6 + k2_vy/3 + k3_vy/3 + k4_vy/6\n",
    "        next_vz = y_vz[-1] + k1_vz/6 + k2_vz/3 + k3_vz/3 + k4_vz/6\n",
    "        \n",
    "        t.append(t[-1] + dt)\n",
    "        y_x_init.append(next_x_init)\n",
    "        y_y_init.append(next_y_init)\n",
    "        y_z_init.append(next_z_init)\n",
    "        y_vx_init.append(next_vx_init)\n",
    "        y_vy_init.append(next_vy_init)\n",
    "        y_vz_init.append(next_vz_init)\n",
    "        y_x.append(next_x)\n",
    "        y_y.append(next_y)\n",
    "        y_z.append(next_z)\n",
    "        y_vx.append(next_vx)\n",
    "        y_vy.append(next_vy)\n",
    "        y_vz.append(next_vz)\n",
    "\n",
    "    return np.array(t), np.array(y_x_init), np.array(y_y_init), np.array(y_z_init),\\\n",
    "         np.array(y_vx_init), np.array(y_vy_init), np.array(y_vz_init), np.array(y_x),\\\n",
    "             np.array(y_y), np.array(y_z), np.array(y_vx), np.array(y_vy), np.array(y_vz)\n"
   ]
  },
  {
   "attachments": {},
   "cell_type": "markdown",
   "metadata": {},
   "source": [
    "Then Johnson-Nyquist noise is added in the motional simulation, https://en.wikipedia.org/wiki/Johnson%E2%80%93Nyquist_noise\n",
    "\n",
    "For a given bandwidth, the root mean square (RMS) of the voltage, $v_{n}$, is given by\n",
    "$$v_{n}={\\sqrt {\\overline {v_{n}^{2}}}}{\\sqrt {\\Delta f}}={\\sqrt {4k_{\\text{B}}TR\\Delta f}}$$\n",
    "\n",
    "which means we can generate the noise distribution with a gaussion distri, where the RMS is given by $ {\\sqrt {4k_{\\text{B}}TR\\Delta f}}$, and $\\Delta f$ is given by $f_{res} / Q$ according to one of the definitions of quality factor Q, https://en.wikipedia.org/wiki/Q_factor\n",
    "\n",
    "concerning how to add noise to a signal in Python, there is an answer says: https://stackoverflow.com/questions/14058340/adding-noise-to-a-signal-in-python\n",
    "\n",
    "Two kinds of noise creation was recommended:\n",
    "1. Markovian Noise\n",
    "2. Non-Markovian Noise with correlation time $T_{corr} = 1 / \\delta f_{res} = Q / f_{res}$ ; \n",
    "\n",
    "There is a website that supports the Non-Markovian Noise, https://www.frontiersin.org/research-topics/41181/the-role-of-non-markovian-noise-in-quantum-information-processing-tasks\n",
    "\n",
    "(No-access)White, G. Characterization and control of non-Markovian quantum noise. Nat Rev Phys 4, 287 (2022). https://doi.org/10.1038/s42254-022-00446-2\n",
    "\n",
    "Chang Woo Kim, et. al Analog Quantum Simulation of the Dynamics of Open Quantum Systems with Quantum Dots and Microelectronic Circuits https://journals.aps.org/prxquantum/pdf/10.1103/PRXQuantum.3.040308"
   ]
  },
  {
   "cell_type": "code",
   "execution_count": 77,
   "metadata": {},
   "outputs": [
    {
     "name": "stderr",
     "output_type": "stream",
     "text": [
      "Simulated time (s): 140%|██████████| 1.4041507996699088e-05/1e-05 [21:11<-1:53:44, 93042100.12s/it] "
     ]
    }
   ],
   "source": [
    "# Setting the process bar with tqdm\n",
    "progress_bar = tqdm(total=T, desc='Simulated time (s)', position=0, leave=True)\n",
    "# Using RK45 to solve the ODE\n",
    "Amplifier_Num = 1\n",
    "\n",
    "t_eval = np.linspace(0, T, Amplifier_Num * (N + 1))\n",
    "\n",
    "# This is for damping factor and time domain method\n",
    "Vec0 = x0, y0, z0, vx0, vy0, vz0, x0, y0, z0, vx0, vy0, vz0\n",
    "\n",
    "solution = solve_ivp(fun=lambda t, Vec: DevMotion_para(t, Vec), \n",
    "                     t_span = (0, T), \n",
    "                     y0 = Vec0, \n",
    "                     t_eval = t_eval, \n",
    "                     first_step = dt,\n",
    "                     max_step = dt,\n",
    "                     atol = 1e1,\n",
    "                     rtol = 1e1,\n",
    "                     method = 'RK45')\n",
    "\n",
    "t_damp = solution.t\n",
    "VecResult = solution.y\n",
    "\n",
    "x_damp, y_damp, z_damp = VecResult[6, :], VecResult[7, :], VecResult[8, :]\n",
    "vx_damp, vy_damp, vz_damp = VecResult[9, :], VecResult[10, :], VecResult[11, :]\n",
    "\n",
    "\n",
    "progress_bar.close()"
   ]
  },
  {
   "cell_type": "code",
   "execution_count": null,
   "metadata": {},
   "outputs": [
    {
     "data": {
      "text/plain": [
       "\"# Print the damping factor\\nCutoff = -1\\nplt.plot(np.array(DampingFactor_tlist[:Cutoff])* 1e6, DampingFactor_list[:Cutoff] ,'k.', label = 'DampingFactor')\\nplt.plot([t_damp[0] * 1e6, t_damp[-1] * 1e6], [1, 1], 'r--', label = '1')\\nplt.xlabel('t/$\\\\mu$s')\\nplt.ylabel('Damping Factor')\\nplt.title(' Fres = {}'.format(fres))\\nplt.ylim([0, 10])\\nplt.legend()\\nplt.show()\\n\""
      ]
     },
     "execution_count": 59,
     "metadata": {},
     "output_type": "execute_result"
    }
   ],
   "source": [
    "'''# Print the damping factor\n",
    "Cutoff = -1\n",
    "plt.plot(np.array(DampingFactor_tlist[:Cutoff])* 1e6, DampingFactor_list[:Cutoff] ,'k.', label = 'DampingFactor')\n",
    "plt.plot([t_damp[0] * 1e6, t_damp[-1] * 1e6], [1, 1], 'r--', label = '1')\n",
    "plt.xlabel('t/$\\mu$s')\n",
    "plt.ylabel('Damping Factor')\n",
    "plt.title(' Fres = {}'.format(fres))\n",
    "plt.ylim([0, 10])\n",
    "plt.legend()\n",
    "plt.show()\n",
    "'''"
   ]
  },
  {
   "cell_type": "code",
   "execution_count": null,
   "metadata": {},
   "outputs": [
    {
     "data": {
      "text/plain": [
       "'\\nCutoff = 90000 - 100\\nprint(DampingFactor_list[Cutoff:Cutoff + 200])\\n'"
      ]
     },
     "execution_count": 60,
     "metadata": {},
     "output_type": "execute_result"
    }
   ],
   "source": [
    "'''\n",
    "Cutoff = 90000 - 100\n",
    "print(DampingFactor_list[Cutoff:Cutoff + 200])\n",
    "'''"
   ]
  },
  {
   "cell_type": "code",
   "execution_count": null,
   "metadata": {},
   "outputs": [
    {
     "data": {
      "image/png": "[encoded data removed]",
      "text/plain": [
       "<Figure size 640x480 with 2 Axes>"
      ]
     },
     "metadata": {},
     "output_type": "display_data"
    }
   ],
   "source": [
    "# Plot the x-axis motion\n",
    "fig1, ax = plt.subplots(1,2)\n",
    "\n",
    "# Plot the data on the axes\n",
    "ax[0].plot(np.array(t_eval[:len(x_damp) // 500 * 500])*1e6, x_damp[:len(x_damp) // 500 * 500])\n",
    "#ax[0].plot(np.array(t_eval[:len(x_damp)])*1e6, x_damp[:len(x_damp)])\n",
    "\n",
    "# Add labels to the axes\n",
    "ax[0].set_xlabel('t($\\mu$s)')\n",
    "ax[0].set_ylabel('x(t)')\n",
    "\n",
    "# Plot the data on the axes\n",
    "Zoomnum = round(0.02e-6/dt)\n",
    "ax[1].plot(np.array(t_eval[:Zoomnum // 1 * 1])*1e6, x_damp[:Zoomnum])\n",
    "\n",
    "# Add labels to the axes\n",
    "ax[1].set_xlabel('t($\\mu$s)')\n",
    "ax[1].set_ylabel('x(t)')\n",
    "\n",
    "\n",
    "# Show the plot\n",
    "plt.show()\n"
   ]
  },
  {
   "cell_type": "code",
   "execution_count": null,
   "metadata": {},
   "outputs": [],
   "source": [
    "vx_abs_init = (np.abs(np.max(vx_damp)) + np.abs(np.min(vx_damp))) / 2\n",
    "e = 2.71828182845904523536\n",
    "\n",
    "peaks, heights = find_peaks(vx_damp, height= vx_abs_init/np.sqrt(e))"
   ]
  },
  {
   "cell_type": "code",
   "execution_count": null,
   "metadata": {},
   "outputs": [
    {
     "ename": "IndexError",
     "evalue": "index -1 is out of bounds for axis 0 with size 0",
     "output_type": "error",
     "traceback": [
      "\u001b[0;31m---------------------------------------------------------------------------\u001b[0m",
      "\u001b[0;31mIndexError\u001b[0m                                Traceback (most recent call last)",
      "Cell \u001b[0;32mIn[66], line 5\u001b[0m\n\u001b[1;32m      3\u001b[0m plt\u001b[39m.\u001b[39mplot(np\u001b[39m.\u001b[39marray(t_damp[:\u001b[39mlen\u001b[39m(x_damp) \u001b[39m/\u001b[39m\u001b[39m/\u001b[39m \u001b[39m500\u001b[39m \u001b[39m*\u001b[39m \u001b[39m500\u001b[39m])\u001b[39m*\u001b[39m\u001b[39m1e6\u001b[39m, vx_abs_init \u001b[39m/\u001b[39m np\u001b[39m.\u001b[39msqrt(e) \u001b[39m*\u001b[39m np\u001b[39m.\u001b[39mones(\u001b[39mlen\u001b[39m(x_damp))[:\u001b[39mlen\u001b[39m(x_damp) \u001b[39m/\u001b[39m\u001b[39m/\u001b[39m \u001b[39m500\u001b[39m \u001b[39m*\u001b[39m \u001b[39m500\u001b[39m], \u001b[39m'\u001b[39m\u001b[39mr--\u001b[39m\u001b[39m'\u001b[39m, label \u001b[39m=\u001b[39m \u001b[39m'\u001b[39m\u001b[39m1/e\u001b[39m\u001b[39m'\u001b[39m)\n\u001b[1;32m      4\u001b[0m plt\u001b[39m.\u001b[39mplot(np\u001b[39m.\u001b[39marray(t_damp[:\u001b[39mlen\u001b[39m(x_damp) \u001b[39m/\u001b[39m\u001b[39m/\u001b[39m \u001b[39m500\u001b[39m \u001b[39m*\u001b[39m \u001b[39m500\u001b[39m])\u001b[39m*\u001b[39m\u001b[39m1e6\u001b[39m, \u001b[39m-\u001b[39mvx_abs_init \u001b[39m/\u001b[39m np\u001b[39m.\u001b[39msqrt(e) \u001b[39m*\u001b[39m np\u001b[39m.\u001b[39mones(\u001b[39mlen\u001b[39m(x_damp))[:\u001b[39mlen\u001b[39m(x_damp) \u001b[39m/\u001b[39m\u001b[39m/\u001b[39m \u001b[39m500\u001b[39m \u001b[39m*\u001b[39m \u001b[39m500\u001b[39m], \u001b[39m'\u001b[39m\u001b[39mr--\u001b[39m\u001b[39m'\u001b[39m)\n\u001b[0;32m----> 5\u001b[0m plt\u001b[39m.\u001b[39mplot(np\u001b[39m.\u001b[39marray(t_damp[peaks[\u001b[39m-\u001b[39;49m\u001b[39m1\u001b[39;49m]])\u001b[39m*\u001b[39m\u001b[39m1e6\u001b[39m, vx_damp[peaks[\u001b[39m-\u001b[39m\u001b[39m1\u001b[39m]], \u001b[39m\"\u001b[39m\u001b[39mx\u001b[39m\u001b[39m\"\u001b[39m)\n\u001b[1;32m      6\u001b[0m plt\u001b[39m.\u001b[39mtext(np\u001b[39m.\u001b[39marray(t_damp[peaks[\u001b[39m-\u001b[39m\u001b[39m1\u001b[39m]])\u001b[39m*\u001b[39m\u001b[39m1e6\u001b[39m, vx_damp[peaks[\u001b[39m-\u001b[39m\u001b[39m1\u001b[39m]], \u001b[39m\"\u001b[39m\u001b[39m%.2f\u001b[39;00m\u001b[39m $\u001b[39m\u001b[39m\\\u001b[39m\u001b[39mmu$s\u001b[39m\u001b[39m\"\u001b[39m \u001b[39m%\u001b[39m (\u001b[39mfloat\u001b[39m(t_damp[peaks[\u001b[39m-\u001b[39m\u001b[39m1\u001b[39m]]) \u001b[39m*\u001b[39m \u001b[39m1e6\u001b[39m))\n\u001b[1;32m      7\u001b[0m \u001b[39m#ax[0].plot(np.array(t_eval[:len(x_damp)])*1e6, x_damp[:len(x_damp)])\u001b[39;00m\n\u001b[1;32m      8\u001b[0m \n\u001b[1;32m      9\u001b[0m \u001b[39m# Add labels to the axes\u001b[39;00m\n\u001b[1;32m     10\u001b[0m \u001b[39m#plt.set_xlabel('t($\\mu$s)')\u001b[39;00m\n\u001b[1;32m     11\u001b[0m \u001b[39m#plt.set_ylabel('$v_x$(t)')\u001b[39;00m\n",
      "\u001b[0;31mIndexError\u001b[0m: index -1 is out of bounds for axis 0 with size 0"
     ]
    },
    {
     "data": {
      "image/png": "[encoded data removed]",
      "text/plain": [
       "<Figure size 640x480 with 1 Axes>"
      ]
     },
     "metadata": {},
     "output_type": "display_data"
    }
   ],
   "source": [
    "\n",
    "\n",
    "plt.plot(np.array(t_damp[:len(x_damp) // 500 * 500])*1e6, vx_damp[:len(x_damp) // 500 * 500],\\\n",
    "          label = '$\\omega_r$:{}GHz, $\\omega_m$:{}GHz, $\\omega_z$:{}MHz'.format(wrf/2/np.pi/1e9, wradical/2/np.pi/1e9, waxial/2/np.pi/1e6))\n",
    "plt.plot(np.array(t_damp[:len(x_damp) // 500 * 500])*1e6, vx_abs_init / np.sqrt(e) * np.ones(len(x_damp))[:len(x_damp) // 500 * 500], 'r--', label = '1/e')\n",
    "plt.plot(np.array(t_damp[:len(x_damp) // 500 * 500])*1e6, -vx_abs_init / np.sqrt(e) * np.ones(len(x_damp))[:len(x_damp) // 500 * 500], 'r--')\n",
    "plt.plot(np.array(t_damp[peaks[-1]])*1e6, vx_damp[peaks[-1]], \"x\")\n",
    "plt.text(np.array(t_damp[peaks[-1]])*1e6, vx_damp[peaks[-1]], \"%.2f $\\mu$s\" % (float(t_damp[peaks[-1]]) * 1e6))\n",
    "#ax[0].plot(np.array(t_eval[:len(x_damp)])*1e6, x_damp[:len(x_damp)])\n",
    "\n",
    "# Add labels to the axes\n",
    "#plt.set_xlabel('t($\\mu$s)')\n",
    "#plt.set_ylabel('$v_x$(t)')\n",
    "plt.xlabel('Time($\\mu$s)')\n",
    "plt.ylabel('$v_x$(t)')\n",
    "plt.legend()\n",
    "plt.ylim([-2e5, 2e5])\n",
    "plt.title('{:.2f} Hz, {:.1f} M$\\Omega$'.format(fres, Rp/1e6))\n",
    "Zoomnum = round(0.2e-6/dt)\n",
    "x_zoom = np.array(t_eval[:Zoomnum // 1 * 1])*1e6\n",
    "y_zoom = vx_damp[:Zoomnum]\n",
    "axes = plt.axes([.50, .2, .23, .2])\n",
    "axes.plot(x_zoom, y_zoom, c='blue', lw=1, label='Zoomed curve')\n",
    "axes.set_xlabel('$\\mu$s')\n",
    "#axes.legend(‘right’)\n",
    "\n",
    "plt.grid()\n",
    "\n",
    "plt.show()"
   ]
  },
  {
   "cell_type": "code",
   "execution_count": null,
   "metadata": {},
   "outputs": [
    {
     "data": {
      "image/png": "[encoded data removed]",
      "text/plain": [
       "<Figure size 640x480 with 2 Axes>"
      ]
     },
     "metadata": {},
     "output_type": "display_data"
    }
   ],
   "source": [
    "# Plot the x-axis motion\n",
    "fig1, ax = plt.subplots(1,2, sharey= False)\n",
    "\n",
    "# Plot the data on the axes\n",
    "ax[0].plot(np.array(t_damp[:len(x_damp) // 500 * 500])*1e6, vx_damp[:len(x_damp) // 500 * 500])\n",
    "#ax[0].plot(np.array(t_eval[:len(x_damp)])*1e6, x_damp[:len(x_damp)])\n",
    "\n",
    "# Add labels to the axes\n",
    "ax[0].set_xlabel('t($\\mu$s)')\n",
    "ax[0].set_ylabel('$v_x$(t)')\n",
    "\n",
    "# Plot the data on the axes\n",
    "Zoomnum = round(1e-6/dt)\n",
    "ax[1].plot(np.array(t_damp[:Zoomnum // 25 * 25])*1e6, vx_damp[:Zoomnum // 25 * 25])\n",
    "\n",
    "# Add labels to the axes\n",
    "ax[1].set_xlabel('t($\\mu$s)')\n",
    "ax[1].set_ylabel('vx(t)')\n",
    "\n",
    "# Show the plot\n",
    "plt.show()"
   ]
  },
  {
   "cell_type": "code",
   "execution_count": null,
   "metadata": {},
   "outputs": [
    {
     "name": "stdout",
     "output_type": "stream",
     "text": [
      "cooling time for secular = 0.14233410890625003 us\n"
     ]
    }
   ],
   "source": [
    "print('cooling time for secular = {} us'.format(m * deff ** 2/ q ** 2/ Rp * 1e6))"
   ]
  },
  {
   "attachments": {},
   "cell_type": "markdown",
   "metadata": {},
   "source": [
    "Secular energy calculations / could also use the average energy over a period of secular motion for now\n",
    "\n",
    "The total energy $E_{tot}$ is given by:\n",
    "\n",
    "$$ E_{tot} = \\sum_i [V_{DC}(\\vec{r_i}) + V_{rf}(\\vec{r_i},t) + V_{kin}(v_i) + \\frac{1}{2}\\sum_{j\\not = i} V_{Coul} (\\vec{r_i},\\vec{r_j})], $$\n"
   ]
  },
  {
   "cell_type": "code",
   "execution_count": null,
   "metadata": {},
   "outputs": [
    {
     "ename": "IndexError",
     "evalue": "index 0 is out of bounds for axis 0 with size 0",
     "output_type": "error",
     "traceback": [
      "\u001b[0;31m---------------------------------------------------------------------------\u001b[0m",
      "\u001b[0;31mIndexError\u001b[0m                                Traceback (most recent call last)",
      "Cell \u001b[0;32mIn[64], line 10\u001b[0m\n\u001b[1;32m      7\u001b[0m     x, y, z, vx, vy, vz \u001b[39m=\u001b[39m Vec\n\u001b[1;32m      8\u001b[0m     \u001b[39mreturn\u001b[39;00m m \u001b[39m*\u001b[39m wradical \u001b[39m*\u001b[39m wrf \u001b[39m*\u001b[39m np\u001b[39m.\u001b[39msqrt(\u001b[39m2\u001b[39m) \u001b[39m/\u001b[39m q \u001b[39m*\u001b[39m np\u001b[39m.\u001b[39mcos(wrf \u001b[39m*\u001b[39m t) \u001b[39m*\u001b[39m (x \u001b[39m*\u001b[39m\u001b[39m*\u001b[39m \u001b[39m2\u001b[39m\u001b[39m-\u001b[39m y \u001b[39m*\u001b[39m\u001b[39m*\u001b[39m \u001b[39m2\u001b[39m) \u001b[39m/\u001b[39m\u001b[39m2\u001b[39m\n\u001b[0;32m---> 10\u001b[0m Tradical \u001b[39m=\u001b[39m \u001b[39m1\u001b[39m \u001b[39m/\u001b[39m ttf[peaks[\u001b[39m0\u001b[39;49m]]\n\u001b[1;32m     11\u001b[0m Nsec \u001b[39m=\u001b[39m \u001b[39mround\u001b[39m(\u001b[39m2\u001b[39m \u001b[39m*\u001b[39m np\u001b[39m.\u001b[39mpi \u001b[39m*\u001b[39m Tradical \u001b[39m/\u001b[39m dt \u001b[39m*\u001b[39m Amplifier_Num_init)\n\u001b[1;32m     13\u001b[0m \u001b[39mdef\u001b[39;00m \u001b[39mVps_without_axial\u001b[39m(Vec, t):\n",
      "\u001b[0;31mIndexError\u001b[0m: index 0 is out of bounds for axis 0 with size 0"
     ]
    }
   ],
   "source": [
    "# Define the pesudo-potential\n",
    "def Vdc_without_axial(Vec, t):\n",
    "    x, y, z, vx, vy, vz = Vec\n",
    "    return 1/4/q * m * waxial ** 2* ( - x ** 2 - y ** 2)\n",
    "\n",
    "def Vrf_without_axial(Vec, t):\n",
    "    x, y, z, vx, vy, vz = Vec\n",
    "    return m * wradical * wrf * np.sqrt(2) / q * np.cos(wrf * t) * (x ** 2- y ** 2) /2\n",
    "\n",
    "Tradical = 1 / ttf[peaks[0]]\n",
    "Nsec = round(2 * np.pi * Tradical / dt * Amplifier_Num_init)\n",
    "\n",
    "def Vps_without_axial(Vec, t):\n",
    "    x, y, z, vx, vy, vz = Vec\n",
    "    Ex, Ey, Ez = Erf(Vec, t)\n",
    "    return q ** 2 / 4 / m / wrf ** 2 * (Ex ** 2 + Ey ** 2)\n",
    "\n",
    "# Calculte for the kinetic energy\n",
    "\n",
    "def Ekin_without_axial(Vec, t):\n",
    "    x, y, z, vx, vy, vz = Vec\n",
    "    return 0.5 * m * (vx ** 2 + vy ** 2)\n",
    "\n",
    "NumSecularPeriod = Nsec\n",
    "Energy = []\n",
    "N = len(t_damp)\n",
    "SampleList = np.arange(0, N, 1 * NumSecularPeriod)\n",
    "SampleList = SampleList[:-1]\n",
    "# we didn't use the pesudopotential approximation till now.\n",
    "'''\n",
    "all direction of x, y, z energy(potential and kinetic energy), average over a waxial period\n",
    "'''\n",
    "for i in SampleList:\n",
    "    Energy_temp = 0\n",
    "    for j in range(NumSecularPeriod):\n",
    "        Vec = x_damp[i + j], y_damp[i + j], z_damp[i + j], vx_damp[i + j], vy_damp[i + j], vz_damp[i + j]\n",
    "        Energy_temp = Energy_temp + Vdc_without_axial(Vec, t_damp[i + j]) + Vrf_without_axial(Vec, t_damp[i + j]) + Ekin_without_axial(Vec, t_damp[i + j])\n",
    "\n",
    "    Energy.append(Energy_temp / NumSecularPeriod)\n",
    "\n",
    "SampleList = SampleList * dt\n",
    "\n"
   ]
  },
  {
   "cell_type": "code",
   "execution_count": null,
   "metadata": {},
   "outputs": [
    {
     "ename": "ValueError",
     "evalue": "x and y must have same first dimension, but have shapes (0,) and (1000,)",
     "output_type": "error",
     "traceback": [
      "\u001b[0;31m---------------------------------------------------------------------------\u001b[0m",
      "\u001b[0;31mValueError\u001b[0m                                Traceback (most recent call last)",
      "Cell \u001b[0;32mIn[65], line 5\u001b[0m\n\u001b[1;32m      2\u001b[0m fig1, ax \u001b[39m=\u001b[39m plt\u001b[39m.\u001b[39msubplots(\u001b[39m1\u001b[39m,\u001b[39m2\u001b[39m)\n\u001b[1;32m      4\u001b[0m \u001b[39m# Plot the data on the axes\u001b[39;00m\n\u001b[0;32m----> 5\u001b[0m ax[\u001b[39m0\u001b[39;49m]\u001b[39m.\u001b[39;49mplot(SampleList, Energy)\n\u001b[1;32m      7\u001b[0m \u001b[39m# Add labels to the axes\u001b[39;00m\n\u001b[1;32m      8\u001b[0m ax[\u001b[39m0\u001b[39m]\u001b[39m.\u001b[39mset_xlabel(\u001b[39m'\u001b[39m\u001b[39mt(\u001b[39m\u001b[39m\\\u001b[39m\u001b[39mmu s)\u001b[39m\u001b[39m'\u001b[39m)\n",
      "File \u001b[0;32m~/Library/Python/3.9/lib/python/site-packages/matplotlib/axes/_axes.py:1688\u001b[0m, in \u001b[0;36mAxes.plot\u001b[0;34m(self, scalex, scaley, data, *args, **kwargs)\u001b[0m\n\u001b[1;32m   1445\u001b[0m \u001b[39m\u001b[39m\u001b[39m\"\"\"\u001b[39;00m\n\u001b[1;32m   1446\u001b[0m \u001b[39mPlot y versus x as lines and/or markers.\u001b[39;00m\n\u001b[1;32m   1447\u001b[0m \n\u001b[0;32m   (...)\u001b[0m\n\u001b[1;32m   1685\u001b[0m \u001b[39m(``'green'``) or hex strings (``'#008000'``).\u001b[39;00m\n\u001b[1;32m   1686\u001b[0m \u001b[39m\"\"\"\u001b[39;00m\n\u001b[1;32m   1687\u001b[0m kwargs \u001b[39m=\u001b[39m cbook\u001b[39m.\u001b[39mnormalize_kwargs(kwargs, mlines\u001b[39m.\u001b[39mLine2D)\n\u001b[0;32m-> 1688\u001b[0m lines \u001b[39m=\u001b[39m [\u001b[39m*\u001b[39m\u001b[39mself\u001b[39m\u001b[39m.\u001b[39m_get_lines(\u001b[39m*\u001b[39margs, data\u001b[39m=\u001b[39mdata, \u001b[39m*\u001b[39m\u001b[39m*\u001b[39mkwargs)]\n\u001b[1;32m   1689\u001b[0m \u001b[39mfor\u001b[39;00m line \u001b[39min\u001b[39;00m lines:\n\u001b[1;32m   1690\u001b[0m     \u001b[39mself\u001b[39m\u001b[39m.\u001b[39madd_line(line)\n",
      "File \u001b[0;32m~/Library/Python/3.9/lib/python/site-packages/matplotlib/axes/_base.py:311\u001b[0m, in \u001b[0;36m_process_plot_var_args.__call__\u001b[0;34m(self, data, *args, **kwargs)\u001b[0m\n\u001b[1;32m    309\u001b[0m     this \u001b[39m+\u001b[39m\u001b[39m=\u001b[39m args[\u001b[39m0\u001b[39m],\n\u001b[1;32m    310\u001b[0m     args \u001b[39m=\u001b[39m args[\u001b[39m1\u001b[39m:]\n\u001b[0;32m--> 311\u001b[0m \u001b[39myield from\u001b[39;00m \u001b[39mself\u001b[39;49m\u001b[39m.\u001b[39;49m_plot_args(\n\u001b[1;32m    312\u001b[0m     this, kwargs, ambiguous_fmt_datakey\u001b[39m=\u001b[39;49mambiguous_fmt_datakey)\n",
      "File \u001b[0;32m~/Library/Python/3.9/lib/python/site-packages/matplotlib/axes/_base.py:504\u001b[0m, in \u001b[0;36m_process_plot_var_args._plot_args\u001b[0;34m(self, tup, kwargs, return_kwargs, ambiguous_fmt_datakey)\u001b[0m\n\u001b[1;32m    501\u001b[0m     \u001b[39mself\u001b[39m\u001b[39m.\u001b[39maxes\u001b[39m.\u001b[39myaxis\u001b[39m.\u001b[39mupdate_units(y)\n\u001b[1;32m    503\u001b[0m \u001b[39mif\u001b[39;00m x\u001b[39m.\u001b[39mshape[\u001b[39m0\u001b[39m] \u001b[39m!=\u001b[39m y\u001b[39m.\u001b[39mshape[\u001b[39m0\u001b[39m]:\n\u001b[0;32m--> 504\u001b[0m     \u001b[39mraise\u001b[39;00m \u001b[39mValueError\u001b[39;00m(\u001b[39mf\u001b[39m\u001b[39m\"\u001b[39m\u001b[39mx and y must have same first dimension, but \u001b[39m\u001b[39m\"\u001b[39m\n\u001b[1;32m    505\u001b[0m                      \u001b[39mf\u001b[39m\u001b[39m\"\u001b[39m\u001b[39mhave shapes \u001b[39m\u001b[39m{\u001b[39;00mx\u001b[39m.\u001b[39mshape\u001b[39m}\u001b[39;00m\u001b[39m and \u001b[39m\u001b[39m{\u001b[39;00my\u001b[39m.\u001b[39mshape\u001b[39m}\u001b[39;00m\u001b[39m\"\u001b[39m)\n\u001b[1;32m    506\u001b[0m \u001b[39mif\u001b[39;00m x\u001b[39m.\u001b[39mndim \u001b[39m>\u001b[39m \u001b[39m2\u001b[39m \u001b[39mor\u001b[39;00m y\u001b[39m.\u001b[39mndim \u001b[39m>\u001b[39m \u001b[39m2\u001b[39m:\n\u001b[1;32m    507\u001b[0m     \u001b[39mraise\u001b[39;00m \u001b[39mValueError\u001b[39;00m(\u001b[39mf\u001b[39m\u001b[39m\"\u001b[39m\u001b[39mx and y can be no greater than 2D, but have \u001b[39m\u001b[39m\"\u001b[39m\n\u001b[1;32m    508\u001b[0m                      \u001b[39mf\u001b[39m\u001b[39m\"\u001b[39m\u001b[39mshapes \u001b[39m\u001b[39m{\u001b[39;00mx\u001b[39m.\u001b[39mshape\u001b[39m}\u001b[39;00m\u001b[39m and \u001b[39m\u001b[39m{\u001b[39;00my\u001b[39m.\u001b[39mshape\u001b[39m}\u001b[39;00m\u001b[39m\"\u001b[39m)\n",
      "\u001b[0;31mValueError\u001b[0m: x and y must have same first dimension, but have shapes (0,) and (1000,)"
     ]
    },
    {
     "data": {
      "image/png": "[encoded data removed]",
      "text/plain": [
       "<Figure size 640x480 with 2 Axes>"
      ]
     },
     "metadata": {},
     "output_type": "display_data"
    }
   ],
   "source": [
    "# plot the secular energy\n",
    "fig1, ax = plt.subplots(1,2)\n",
    "\n",
    "# Plot the data on the axes\n",
    "ax[0].plot(SampleList, Energy)\n",
    "\n",
    "# Add labels to the axes\n",
    "ax[0].set_xlabel('t(\\mu s)')\n",
    "ax[0].set_ylabel('E(t)')\n",
    "\n",
    "# Plot the data on the axes\n",
    "Zoomnum = int(0.12e-6/dt)\n",
    "ax[1].plot(SampleList[:Zoomnum]*1e6, Energy[:Zoomnum])\n",
    "\n",
    "# Add labels to the axes\n",
    "ax[1].set_xlabel('t(\\mu s)')\n",
    "ax[1].set_ylabel('E(t)')\n",
    "\n",
    "# Show the plot\n",
    "plt.show()"
   ]
  },
  {
   "cell_type": "code",
   "execution_count": null,
   "metadata": {},
   "outputs": [
    {
     "ename": "ValueError",
     "evalue": "operands could not be broadcast together with shapes (1000,) (0,) ",
     "output_type": "error",
     "traceback": [
      "\u001b[0;31m---------------------------------------------------------------------------\u001b[0m",
      "\u001b[0;31mValueError\u001b[0m                                Traceback (most recent call last)",
      "Cell \u001b[0;32mIn[56], line 8\u001b[0m\n\u001b[1;32m      6\u001b[0m xdata \u001b[39m=\u001b[39m SampleList\n\u001b[1;32m      7\u001b[0m ydata \u001b[39m=\u001b[39m Energy\n\u001b[0;32m----> 8\u001b[0m out   \u001b[39m=\u001b[39m leastsq( Energy_errfunc, init, args\u001b[39m=\u001b[39;49m(xdata, ydata))\n\u001b[1;32m      9\u001b[0m c \u001b[39m=\u001b[39m out[\u001b[39m0\u001b[39m]\n\u001b[1;32m     12\u001b[0m plt\u001b[39m.\u001b[39mplot(xdata, Energy_fitfunc(c, xdata), label \u001b[39m=\u001b[39m \u001b[39m'\u001b[39m\u001b[39mFitting Curve\u001b[39m\u001b[39m'\u001b[39m)\n",
      "File \u001b[0;32m~/Library/Python/3.9/lib/python/site-packages/scipy/optimize/_minpack_py.py:413\u001b[0m, in \u001b[0;36mleastsq\u001b[0;34m(func, x0, args, Dfun, full_output, col_deriv, ftol, xtol, gtol, maxfev, epsfcn, factor, diag)\u001b[0m\n\u001b[1;32m    411\u001b[0m \u001b[39mif\u001b[39;00m \u001b[39mnot\u001b[39;00m \u001b[39misinstance\u001b[39m(args, \u001b[39mtuple\u001b[39m):\n\u001b[1;32m    412\u001b[0m     args \u001b[39m=\u001b[39m (args,)\n\u001b[0;32m--> 413\u001b[0m shape, dtype \u001b[39m=\u001b[39m _check_func(\u001b[39m'\u001b[39;49m\u001b[39mleastsq\u001b[39;49m\u001b[39m'\u001b[39;49m, \u001b[39m'\u001b[39;49m\u001b[39mfunc\u001b[39;49m\u001b[39m'\u001b[39;49m, func, x0, args, n)\n\u001b[1;32m    414\u001b[0m m \u001b[39m=\u001b[39m shape[\u001b[39m0\u001b[39m]\n\u001b[1;32m    416\u001b[0m \u001b[39mif\u001b[39;00m n \u001b[39m>\u001b[39m m:\n",
      "File \u001b[0;32m~/Library/Python/3.9/lib/python/site-packages/scipy/optimize/_minpack_py.py:26\u001b[0m, in \u001b[0;36m_check_func\u001b[0;34m(checker, argname, thefunc, x0, args, numinputs, output_shape)\u001b[0m\n\u001b[1;32m     24\u001b[0m \u001b[39mdef\u001b[39;00m \u001b[39m_check_func\u001b[39m(checker, argname, thefunc, x0, args, numinputs,\n\u001b[1;32m     25\u001b[0m                 output_shape\u001b[39m=\u001b[39m\u001b[39mNone\u001b[39;00m):\n\u001b[0;32m---> 26\u001b[0m     res \u001b[39m=\u001b[39m atleast_1d(thefunc(\u001b[39m*\u001b[39;49m((x0[:numinputs],) \u001b[39m+\u001b[39;49m args)))\n\u001b[1;32m     27\u001b[0m     \u001b[39mif\u001b[39;00m (output_shape \u001b[39mis\u001b[39;00m \u001b[39mnot\u001b[39;00m \u001b[39mNone\u001b[39;00m) \u001b[39mand\u001b[39;00m (shape(res) \u001b[39m!=\u001b[39m output_shape):\n\u001b[1;32m     28\u001b[0m         \u001b[39mif\u001b[39;00m (output_shape[\u001b[39m0\u001b[39m] \u001b[39m!=\u001b[39m \u001b[39m1\u001b[39m):\n",
      "Cell \u001b[0;32mIn[56], line 4\u001b[0m, in \u001b[0;36m<lambda>\u001b[0;34m(p, x, y)\u001b[0m\n\u001b[1;32m      1\u001b[0m \u001b[39mfrom\u001b[39;00m \u001b[39mscipy\u001b[39;00m\u001b[39m.\u001b[39;00m\u001b[39moptimize\u001b[39;00m \u001b[39mimport\u001b[39;00m leastsq\n\u001b[1;32m      3\u001b[0m Energy_fitfunc  \u001b[39m=\u001b[39m \u001b[39mlambda\u001b[39;00m p, x: p[\u001b[39m0\u001b[39m]\u001b[39m*\u001b[39mnp\u001b[39m.\u001b[39mexp(\u001b[39m-\u001b[39m x\u001b[39m/\u001b[39mp[\u001b[39m1\u001b[39m])\u001b[39m+\u001b[39mp[\u001b[39m2\u001b[39m]\n\u001b[0;32m----> 4\u001b[0m Energy_errfunc  \u001b[39m=\u001b[39m \u001b[39mlambda\u001b[39;00m p, x, y: (y \u001b[39m-\u001b[39;49m Energy_fitfunc(p, x))\n\u001b[1;32m      5\u001b[0m init  \u001b[39m=\u001b[39m [\u001b[39m1e-3\u001b[39m, \u001b[39m5e-7\u001b[39m, \u001b[39m0.5\u001b[39m]\n\u001b[1;32m      6\u001b[0m xdata \u001b[39m=\u001b[39m SampleList\n",
      "\u001b[0;31mValueError\u001b[0m: operands could not be broadcast together with shapes (1000,) (0,) "
     ]
    }
   ],
   "source": [
    "from scipy.optimize import leastsq\n",
    "\n",
    "Energy_fitfunc  = lambda p, x: p[0]*np.exp(- x/p[1])+p[2]\n",
    "Energy_errfunc  = lambda p, x, y: (y - Energy_fitfunc(p, x))\n",
    "init  = [1e-3, 5e-7, 0.5]\n",
    "xdata = SampleList\n",
    "ydata = Energy\n",
    "out   = leastsq( Energy_errfunc, init, args=(xdata, ydata))\n",
    "c = out[0]\n",
    "\n",
    "\n",
    "plt.plot(xdata, Energy_fitfunc(c, xdata), label = 'Fitting Curve')\n",
    "plt.plot(xdata, ydata, label = 'raw data')\n",
    "plt.title(r'$A = %.3f\\ \\sigma = %.8f\\ k = %.3f $' %(c[0],abs(c[1]) * 1e6,c[2]))\n",
    "plt.legend()\n",
    "plt.show()"
   ]
  },
  {
   "cell_type": "code",
   "execution_count": null,
   "metadata": {},
   "outputs": [
    {
     "name": "stdout",
     "output_type": "stream",
     "text": [
      "806999439885\n",
      "10000001\n",
      "0\n",
      "0\n"
     ]
    },
    {
     "data": {
      "image/png": "[encoded data removed]",
      "text/plain": [
       "<Figure size 640x480 with 1 Axes>"
      ]
     },
     "metadata": {},
     "output_type": "display_data"
    }
   ],
   "source": [
    "CoolingTime = abs(c[1])\n",
    "\n",
    "Energy = []\n",
    "EquilibriumTime = 3\n",
    "print(EquilibriumTime * round(CoolingTime / dt))\n",
    "        \n",
    "# we assume that after 4 cooling Time: e^-4, the motion is dominant by the noise\n",
    "t_damped = t_damp[EquilibriumTime * round(CoolingTime / dt):]\n",
    "x_damped = x_damp[EquilibriumTime * round(CoolingTime / dt):]\n",
    "y_damped = y_damp[EquilibriumTime * round(CoolingTime / dt):]\n",
    "z_damped = z_damp[EquilibriumTime * round(CoolingTime / dt):]\n",
    "vx_damped = vx_damp[EquilibriumTime * round(CoolingTime / dt):]\n",
    "vy_damped = vy_damp[EquilibriumTime * round(CoolingTime / dt):]\n",
    "vz_damped = vz_damp[EquilibriumTime * round(CoolingTime / dt):]\n",
    "print(len(t_damp))\n",
    "print(len(t_damped))\n",
    "\n",
    "N = len(t_damped)\n",
    "SampleList = np.arange(0, N, NumSecularPeriod)\n",
    "SampleList = SampleList[:-1]\n",
    "print(len(SampleList))\n",
    "# we didn't use the pesudopotential approximation till now.\n",
    "'''\n",
    "all direction of x, y, z energy(potential and kinetic energy), average over a waxial period\n",
    "'''\n",
    "for i in SampleList:\n",
    "    Energy_temp = 0\n",
    "    for j in range(NumSecularPeriod):\n",
    "        Vec = x_damped[i + j], y_damped[i + j], z_damped[i + j], vx_damped[i + j], vy_damped[i + j], vz_damped[i + j]\n",
    "        Energy_temp = Energy_temp + \\\n",
    "                     Vdc_without_axial(Vec, t_damped[i + j]) + \\\n",
    "                     Vrf_without_axial(Vec, t_damped[i + j]) + \\\n",
    "                     Ekin_without_axial(Vec, t_damped[i + j])\n",
    "\n",
    "    Energy.append(Energy_temp / NumSecularPeriod)\n",
    "#print(Energy)        \n",
    "# best fit of Energy Hist\n",
    "Energy_fitfunc  = lambda p, x: p[0]*np.exp(- x/p[1])+p[2]\n",
    "Energy_errfunc  = lambda p, x, y: (y - Energy_fitfunc(p, x))\n",
    "\n",
    "plt.plot(Energy)\n",
    "#plt.savefig('figures/' + 'time vs Energy' + '.png')\n",
    "plt.show()\n",
    "\n",
    "       "
   ]
  },
  {
   "cell_type": "code",
   "execution_count": null,
   "metadata": {},
   "outputs": [
    {
     "name": "stdout",
     "output_type": "stream",
     "text": [
      "A exp[-(x-mu)/sigma] + k \n",
      "Fit Coefficients:\n",
      "1.0 0.5 0.5\n"
     ]
    },
    {
     "name": "stderr",
     "output_type": "stream",
     "text": [
      "/Users/mac/Library/Python/3.9/lib/python/site-packages/numpy/lib/histograms.py:883: RuntimeWarning: invalid value encountered in divide\n",
      "  return n/db/n.sum(), bin_edges\n"
     ]
    },
    {
     "data": {
      "image/png": "[encoded data removed]",
      "text/plain": [
       "<Figure size 640x480 with 1 Axes>"
      ]
     },
     "metadata": {},
     "output_type": "display_data"
    }
   ],
   "source": [
    "\n",
    "Energy_n, Energy_bin_edges,_ = plt.hist(Energy, 50, density=True, color='green', label = 'Histogram')\n",
    "#print(Energy_n)\n",
    "#print(Energy_bin_edges)\n",
    "#plt.title('Histogram for Energy')\n",
    "#plt.show()\n",
    "xdata = 0.5*(Energy_bin_edges[1:] + Energy_bin_edges[:-1])\n",
    "ydata = Energy_n\n",
    "\n",
    "init  = [1.0, 0.5, 0.5]\n",
    "\n",
    "out   = leastsq( Energy_errfunc, init, args=(xdata, ydata))\n",
    "c = out[0]\n",
    "\n",
    "print(\"A exp[-(x-mu)/sigma] + k \")\n",
    "       \n",
    "print(\"Fit Coefficients:\")\n",
    "print(c[0],abs(c[1]),c[2])\n"
   ]
  },
  {
   "attachments": {},
   "cell_type": "markdown",
   "metadata": {},
   "source": [
    "# Functions for fitting data"
   ]
  },
  {
   "cell_type": "code",
   "execution_count": null,
   "metadata": {},
   "outputs": [
    {
     "name": "stdout",
     "output_type": "stream",
     "text": [
      "60\n",
      "60\n",
      "A exp[-0.5((x-mu)/sigma)^2] + k \n",
      "Parent Coefficients:\n",
      "1.000, 0.200, 0.300, 0.625\n",
      "Fit Coefficients:\n",
      "-4920.347266145558 0.019274010781975003 53.693246087088696 4920.562578701158\n"
     ]
    },
    {
     "data": {
      "image/png": "[encoded data removed]",
      "text/plain": [
       "<Figure size 640x480 with 1 Axes>"
      ]
     },
     "metadata": {},
     "output_type": "display_data"
    }
   ],
   "source": [
    "from pylab import *\n",
    "from numpy import loadtxt\n",
    "from scipy.optimize import leastsq\n",
    "\n",
    "fitfunc  = lambda p, x: p[0]*exp(-0.5*((x-p[1])/p[2])**2)+p[3]\n",
    "errfunc  = lambda p, x, y: (y - fitfunc(p, x))\n",
    "\n",
    "\n",
    "Energy = np.sin(np.random.normal(0, 2 * np.pi, 1000))\n",
    "n, bin_edges,_ = plt.hist(Energy, 60, density=True, color='green', alpha=0.75)\n",
    "xdata = 0.5*(bin_edges[1:] + bin_edges[:-1])\n",
    "ydata = n\n",
    "print(len(xdata))\n",
    "print(len(n))\n",
    "\n",
    "init  = [1.0, 0.5, 0.5, 0.5]\n",
    "\n",
    "out   = leastsq( errfunc, init, args=(xdata, ydata))\n",
    "c = out[0]\n",
    "\n",
    "print(\"A exp[-0.5((x-mu)/sigma)^2] + k \")\n",
    "print(\"Parent Coefficients:\")\n",
    "print(\"1.000, 0.200, 0.300, 0.625\")\n",
    "print(\"Fit Coefficients:\")\n",
    "print(c[0],c[1],abs(c[2]),c[3])\n",
    "\n",
    "plot(xdata, fitfunc(c, xdata))\n",
    "#plot(xdata, ydata)\n",
    "\n",
    "title(r'$A = %.3f\\  \\mu = %.3f\\  \\sigma = %.3f\\ k = %.3f $' %(c[0],c[1],abs(c[2]),c[3]))\n",
    "\n",
    "show()"
   ]
  },
  {
   "attachments": {},
   "cell_type": "markdown",
   "metadata": {},
   "source": []
  },
  {
   "attachments": {},
   "cell_type": "markdown",
   "metadata": {},
   "source": []
  }
 ],
 "metadata": {
  "kernelspec": {
   "display_name": "Python 3",
   "language": "python",
   "name": "python3"
  },
  "language_info": {
   "codemirror_mode": {
    "name": "ipython",
    "version": 3
   },
   "file_extension": ".py",
   "mimetype": "text/x-python",
   "name": "python",
   "nbconvert_exporter": "python",
   "pygments_lexer": "ipython3",
   "version": "3.9.6"
  },
  "orig_nbformat": 4,
  "vscode": {
   "interpreter": {
    "hash": "31f2aee4e71d21fbe5cf8b01ff0e069b9275f58929596ceb00d14d90e3e16cd6"
   }
  }
 },
 "nbformat": 4,
 "nbformat_minor": 2
}
