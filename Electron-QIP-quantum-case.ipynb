{
 "cells": [
  {
   "attachments": {},
   "cell_type": "markdown",
   "metadata": {},
   "source": [
    "# Created by Wenhan Hua\n",
    "\n",
    "Mar. 7th 2023"
   ]
  },
  {
   "attachments": {},
   "cell_type": "markdown",
   "metadata": {},
   "source": [
    "The system Hamiltonian can be written as:\n",
    "\n",
    "$$ H = H_{circuit} + H_{motion} + H_{int} $$\n",
    "\n",
    "- $H_{circuit} $: the hamiltonian for the eletric circuit\n",
    "\n",
    "It can be buit as,\n",
    "\n",
    "$$H_{circuit} = \\frac{\\Phi^2}{2L} + \\frac{Q^2}{2C} = \\frac{\\Phi^2}{2L} + \\frac{1}{2} L\\Omega^2 Q^2 $$\n",
    "\n",
    "with the LC resonator frequency $\\Omega = 1/\\sqrt{LC}$\n",
    "\n",
    "- $H_{motions} $: the hamiltonian of the electron motion\n",
    "\n",
    "$$ H_{motion} = \\frac{p^2}{2m} + \\frac{m}{2} W(t) x^2 $$\n",
    "\n",
    "consider the full time-dependent trapping potential, \n",
    "\n",
    "$$ W(t) = \\frac{\\omega_{rf}^2}{4}[a_x + 2 q_x \\cos(\\omega_{rf} t)]$$\n",
    "\n",
    "According to LBMW(Page 286, Equation 29). let $u(t)$ be the special solution, then the $x(t)$ and $p(t) $ can be reexpressed as\n",
    "\n",
    "$$ x(t) = \\sqrt{\\frac{\\hbar}{2m\\nu}} \\{ a u^*(t) + a^\\dagger u(t)\\} $$\n",
    "\n",
    "$$ p(t) = \\sqrt{\\frac{\\hbar m}{2\\nu}} \\{a \\dot{u}^*(t) + a^\\dagger \\dot{u}(t)\\} $$\n",
    "\n",
    "Under the lowest order approximation of the solution of the Mathieu equation:\n",
    "\n",
    "$$ \\frac{d^2 x}{d\\xi^2} + [a_x - 2q_x\\cos(2\\xi)] x = 0$$\n",
    "\n",
    "is given by:\n",
    "\n",
    "$$ u(t) = u_0 e^{ i\\frac{\\beta_u\\omega_{rf} t}{2}}(1 - \\frac{q_u}{2}\\cos(\\omega_{rf} t)) $$\n",
    "\n",
    "- $H_{int}$: interaction hamiltonian between the two(damping force)\n",
    "\n",
    "Interaction is given by:\n",
    "\n",
    "$$ H_{int} = qU(r) $$\n",
    "\n",
    "where $U(r) $ is the potential around the trapping position as \n",
    "$$ U(r_i) = U(0) + \\frac{Q}{C} [(r_i / D_{1,i}) + s_i (r_i / D_{2,i})^2 + O(r^3)] $$\n",
    "\n",
    "Where $Q$ is the charge on the resonator's cavity board, $D_{1, i}$ is the effective distance\n",
    "\n",
    "Let's focus on the linear term:\n",
    "\n",
    "$$ \\frac{q}{C D_{1,i}} Q x = \\frac{q}{C D_{1,i}} x_0 Q_0 (a_\\phi e^{-i \\Omega t} + a_\\phi^\\dagger e^{+i \\Omega t}) [a_x e^{- i\\nu t}(1-\\frac{q_u}{2}\\cos(\\omega_{rf} t)) +  a_x^\\dagger e^{+ i\\nu t}(1-\\frac{q_u}{2}\\cos(\\omega_{rf} t)) ]$$\n",
    "\n",
    "with $x_0 = \\sqrt{\\frac{\\hbar}{2m\\nu}}$ and $ Q_0 = \\sqrt{\\frac{\\hbar}{2L\\Omega}} $, $\\Omega$ is the resonator frequency\n",
    "\n",
    "After doing the rotating wave approximation , consider there is only coupling in the x direction ($u = x$) and neglect the second order term(the parametric coupling term).we find two resonaces: \n",
    "\n",
    "1. When $\\Omega = \\omega_{rf} - \\nu$, \n",
    "$$ <H_{int}> = - \\frac{q q_x x_0 Q_0}{4 C D_{1,i}}[a_\\phi a_x + a_\\phi^\\dagger a_x^\\dagger] $$\n",
    "\n",
    "2. When $\\Omega = \\omega_{rf} + \\nu$,\n",
    "\n",
    "$$ <H_{int}> = - \\frac{q q_x x_0 Q_0}{4 C D_{1,i}}[a_\\phi a_x^\\dagger + a_\\phi^\\dagger a_x] $$"
   ]
  },
  {
   "cell_type": "code",
   "execution_count": null,
   "metadata": {},
   "outputs": [],
   "source": []
  }
 ],
 "metadata": {
  "kernelspec": {
   "display_name": "Python 3",
   "language": "python",
   "name": "python3"
  },
  "language_info": {
   "name": "python",
   "version": "3.9.4"
  },
  "orig_nbformat": 4,
  "vscode": {
   "interpreter": {
    "hash": "aee8b7b246df8f9039afb4144a1f6fd8d2ca17a180786b69acc140d282b71a49"
   }
  }
 },
 "nbformat": 4,
 "nbformat_minor": 2
}
